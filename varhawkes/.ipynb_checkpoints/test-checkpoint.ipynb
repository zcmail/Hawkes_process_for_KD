{
 "cells": [
  {
   "cell_type": "code",
   "execution_count": 4,
   "metadata": {},
   "outputs": [],
   "source": [
    "import torch\n",
    "lambda_M=[-259.7450866699219, -243.1791534423828, -239.8317108154297, -248.2087860107422, -236.31443786621094, -231.28134155273438, -229.03012084960938, -222.8705596923828, -220.87515258789062, -225.70819091796875, -227.04759216308594, -227.10447692871094, -229.08424377441406, -237.5251007080078, -264.340087890625, -217.00233459472656, -221.4193115234375, -223.582275390625, -235.52223205566406, -236.51043701171875, -220.7790069580078, -218.87559509277344, -228.0836944580078, -228.13731384277344, -236.70545959472656, -241.37193298339844, -231.2182159423828, -226.56036376953125, -234.86082458496094, -222.52088928222656, -221.72169494628906, -231.4672393798828, -219.97972106933594, -234.22633361816406, -219.8638153076172, -233.05331420898438, -232.85252380371094, -225.20977783203125, -216.90243530273438, -229.2033233642578]\n",
    "const=4.154747429148244\n",
    "end_time=[ 5.4781 ,  4.4147 ,  4.0471 ,  4.7263 ,  4.0207 ,  3.795 ,  3.6299 ,  3.3791 ,  3.1841 ,  3.2518 ,  3.2824 ,  3.4634 ,  3.6159 ,  3.9405 ,  5.4164 ,  2.9625 ,  3.3079 ,  3.2302 ,  3.4553 ,  3.7083 ,  2.999 ,  2.9376 ,  3.2241 ,  3.3046 ,  3.6704 ,  4.1011 ,  3.4095 ,  3.1192 ,  3.5226 ,  2.8865 ,  3.1145 ,  3.4509 ,  2.9564 ,  3.7405 ,  2.9643 ,  3.5174 ,  3.6165 ,  3.225 ,  2.7035 ,  3.326 ]"
   ]
  },
  {
   "cell_type": "code",
   "execution_count": 8,
   "metadata": {},
   "outputs": [
    {
     "ename": "NameError",
     "evalue": "name 'lambda_M' is not defined",
     "output_type": "error",
     "traceback": [
      "\u001b[1;31m---------------------------------------------------------------------------\u001b[0m",
      "\u001b[1;31mNameError\u001b[0m                                 Traceback (most recent call last)",
      "\u001b[1;32m<ipython-input-8-a207b93caadb>\u001b[0m in \u001b[0;36m<module>\u001b[1;34m\u001b[0m\n\u001b[0;32m      8\u001b[0m \u001b[0mlambda_sum_sigma\u001b[0m \u001b[1;33m=\u001b[0m \u001b[1;36m0.0\u001b[0m\u001b[1;33m\u001b[0m\u001b[0m\n\u001b[0;32m      9\u001b[0m \u001b[1;33m\u001b[0m\u001b[0m\n\u001b[1;32m---> 10\u001b[1;33m \u001b[1;32mfor\u001b[0m \u001b[0mi\u001b[0m \u001b[1;32min\u001b[0m \u001b[0mrange\u001b[0m\u001b[1;33m(\u001b[0m\u001b[0mlen\u001b[0m\u001b[1;33m(\u001b[0m\u001b[0mlambda_M\u001b[0m\u001b[1;33m)\u001b[0m\u001b[1;33m)\u001b[0m\u001b[1;33m:\u001b[0m\u001b[1;33m\u001b[0m\u001b[0m\n\u001b[0m\u001b[0;32m     11\u001b[0m     \u001b[0mlambda_sum\u001b[0m \u001b[1;33m+=\u001b[0m \u001b[0msp\u001b[0m\u001b[1;33m.\u001b[0m\u001b[0mlog\u001b[0m\u001b[1;33m(\u001b[0m\u001b[1;33m(\u001b[0m\u001b[0mlambda_M\u001b[0m\u001b[1;33m[\u001b[0m\u001b[0mi\u001b[0m\u001b[1;33m]\u001b[0m\u001b[1;33m-\u001b[0m \u001b[0mc\u001b[0m\u001b[1;33m)\u001b[0m\u001b[1;33m/\u001b[0m\u001b[1;33m(\u001b[0m\u001b[0mn_nodes\u001b[0m\u001b[1;33m*\u001b[0m\u001b[1;33m(\u001b[0m\u001b[1;36m2\u001b[0m\u001b[1;33m+\u001b[0m\u001b[0mend_time\u001b[0m\u001b[1;33m[\u001b[0m\u001b[0mi\u001b[0m\u001b[1;33m]\u001b[0m\u001b[1;33m)\u001b[0m\u001b[1;33m)\u001b[0m\u001b[1;33m)\u001b[0m\u001b[1;33m\u001b[0m\u001b[0m\n\u001b[0;32m     12\u001b[0m \u001b[1;33m\u001b[0m\u001b[0m\n",
      "\u001b[1;31mNameError\u001b[0m: name 'lambda_M' is not defined"
     ]
    }
   ],
   "source": [
    "import sympy as sp  # 导入sympy包\n",
    "\n",
    "c = sp.Symbol('c')  # 定义符号变量\n",
    "\n",
    "n_nodes = 11\n",
    "n_events = 40\n",
    "lambda_sum = 0.0\n",
    "lambda_sum_sigma = 0.0    \n",
    "\n",
    "for i in range(len(lambda_M)):\n",
    "    lambda_sum += sp.log((lambda_M[i]- c)/(n_nodes*(2+end_time[i])))\n",
    "\n",
    "nu = lambda_sum/n_events\n",
    "\n",
    "for i in range(len(lambda_M)):\n",
    "    lambda_sum_sigma += ((lambda_M[i]- c)/(n_nodes*(2+end_time[i])) - nu)**2\n",
    "varsigma = sp.sqrt(lambda_sum_sigma/(n_nodes - 1))\n",
    "\n",
    "f = nu + 3*varsigma - const\n",
    "\n",
    "sp.solve(f,c)"
   ]
  },
  {
   "cell_type": "code",
   "execution_count": 12,
   "metadata": {},
   "outputs": [
    {
     "name": "stdout",
     "output_type": "stream",
     "text": [
      "[0.06349005 0.05447943 0.15574769 0.02288769 0.17355673 0.0904044\n",
      " 0.00334503 0.03813723 0.30087528 0.01729358]\n"
     ]
    }
   ],
   "source": [
    "import numpy as np\n",
    "a = np.random.lognormal(mean=-3.0, sigma=1.0, size=10)\n",
    "print (a)"
   ]
  },
  {
   "cell_type": "code",
   "execution_count": 27,
   "metadata": {},
   "outputs": [
    {
     "name": "stdout",
     "output_type": "stream",
     "text": [
      "3倍下界是: 0.0036978637164829303\n",
      "3倍上界是: 0.012277339903068441\n"
     ]
    }
   ],
   "source": [
    "import math\n",
    "nu = -5.0\n",
    "varsigma = 0.2\n",
    "print('3倍下界是:', math.exp(nu) / (math.exp(varsigma))**3)\n",
    "print('3倍上界是:', math.exp(nu) * (math.exp(varsigma))**3)"
   ]
  },
  {
   "cell_type": "code",
   "execution_count": 29,
   "metadata": {},
   "outputs": [
    {
     "name": "stdout",
     "output_type": "stream",
     "text": [
      "[1.00000001 0.99999998 1.00000001]\n"
     ]
    }
   ],
   "source": [
    "from scipy.optimize import fsolve\n",
    "def func(i):\n",
    "    x, y, z = i[0], i[1], i[2]\n",
    "    return [x + 2 * y + 3 * z - 6, 5 * (x ** 2) + 6 * (y ** 2) + 7 * (z ** 2) - 18, 9 * (x ** 3) + 10 * (y ** 3) + 11 * (z ** 3) - 30] \n",
    "r = fsolve(func,[0, 0, 0])\n",
    "print(r)"
   ]
  },
  {
   "cell_type": "code",
   "execution_count": 30,
   "metadata": {},
   "outputs": [
    {
     "name": "stdout",
     "output_type": "stream",
     "text": [
      "[1.00000001 0.99999998 1.00000001]\n"
     ]
    }
   ],
   "source": [
    "from scipy.optimize import fsolve\n",
    "def func(i):\n",
    "    return [i[0] + 2 * i[1] + 3 * i[2] - 6, 5 * (i[0] ** 2) + 6 * (i[1] ** 2) + 7 * (i[2] ** 2) - 18, 9 * (i[0] ** 3) + 10 * (i[1] ** 3) + 11 * (i[2] ** 3) - 30] \n",
    "r = fsolve(func,[0, 0, 0])\n",
    "print(r)"
   ]
  },
  {
   "cell_type": "code",
   "execution_count": 31,
   "metadata": {},
   "outputs": [
    {
     "name": "stdout",
     "output_type": "stream",
     "text": [
      "3.0\n"
     ]
    }
   ],
   "source": [
    "print(r.sum())"
   ]
  },
  {
   "cell_type": "code",
   "execution_count": 65,
   "metadata": {},
   "outputs": [
    {
     "name": "stdout",
     "output_type": "stream",
     "text": [
      "[18.4899032  18.42083576 18.32504796 18.37156316 18.52768264 18.53093936\n",
      " 19.31707474 19.35002551 18.60143197 18.30146289 18.59729818 18.10420659\n",
      " 18.06979423 18.31483333 18.33041393 18.51602574 19.12468901 18.40216086\n",
      " 18.48961302 18.30250195 18.0921075  18.45776132 18.08247203 18.52176871\n",
      " 18.04809618 18.58914076 18.32204948 18.26673764 18.67835547 18.23623811\n",
      " 18.28632655 18.43672983 17.94588127 18.21392316 18.42677726 18.12732474\n",
      " 18.65731512 18.70522169 18.39628666 18.04025636 18.29275662 18.70431533\n",
      " 18.22727007 18.21505043 18.01220399 18.20571224 18.52245634 19.17151517\n",
      " 18.37931031 18.82172597]\n"
     ]
    }
   ],
   "source": [
    "import math\n",
    "from scipy.optimize import fsolve\n",
    "\n",
    "def func_new(epsilon_noise):\n",
    "    expresion = [log(4.221467759262194-epsilon_noise[0])+log(5.068285114698524-epsilon_noise[0])+log(12.838853672354675-epsilon_noise[0])+log(13.837862559724712-epsilon_noise[0])+log(6.7849675550584525-epsilon_noise[0])+log(4.393060098096667-epsilon_noise[0])+log(8.2825561820172-epsilon_noise[0])+log(17.27014531980672-epsilon_noise[0])+log(19.40071069820341-epsilon_noise[0])+log(7.446838044483695-epsilon_noise[0])+log(9.722824376099869-epsilon_noise[0])-224.0201031569847+11*epsilon_noise[0],log(4.202991344110525-epsilon_noise[1])+log(7.409372148006057-epsilon_noise[1])+log(14.42374725753054-epsilon_noise[1])+log(26.70700859814947-epsilon_noise[1])+log(6.060681484929917-epsilon_noise[1])+log(4.117268232018988-epsilon_noise[1])+log(10.041292561376398-epsilon_noise[1])+log(17.685657577606385-epsilon_noise[1])+log(17.861751557736387-epsilon_noise[1])+log(8.021877067175428-epsilon_noise[1])+log(8.617161709586236-epsilon_noise[1])-222.2189281225967+11*epsilon_noise[1],log(4.498870574788749-epsilon_noise[2])+log(12.398739710035436-epsilon_noise[2])+log(22.97888399836643-epsilon_noise[2])+log(28.399727108316846-epsilon_noise[2])+log(6.064615913007641-epsilon_noise[2])+log(3.2657671098879133-epsilon_noise[2])+log(10.196753427069183-epsilon_noise[2])+log(16.87212433594685-epsilon_noise[2])+log(16.539020983436327-epsilon_noise[2])+log(10.937572427928064-epsilon_noise[2])+log(7.835906256848405-epsilon_noise[2])-222.4466306416254+11*epsilon_noise[2],log(4.282547214304629-epsilon_noise[3])+log(4.141794005513075-epsilon_noise[3])+log(26.65302255537344-epsilon_noise[3])+log(18.013369204565976-epsilon_noise[3])+log(6.290799885423893-epsilon_noise[3])+log(3.84299725116375-epsilon_noise[3])+log(8.580128048871394-epsilon_noise[3])+log(25.749398950907548-epsilon_noise[3])+log(15.830029355046879-epsilon_noise[3])+log(14.310236615264927-epsilon_noise[3])+log(10.217146166237335-epsilon_noise[3])-222.3558216538792+11*epsilon_noise[3],log(4.137239894037375-epsilon_noise[4])+log(11.233724334458195-epsilon_noise[4])+log(18.392845598008886-epsilon_noise[4])+log(24.864662582258177-epsilon_noise[4])+log(7.150569310193243-epsilon_noise[4])+log(3.754864948476542-epsilon_noise[4])+log(12.980224253093466-epsilon_noise[4])+log(21.563272637464877-epsilon_noise[4])+log(27.320451844188398-epsilon_noise[4])+log(18.670093597021744-epsilon_noise[4])+log(8.660253701623121-epsilon_noise[4])-218.763102568879+11*epsilon_noise[4],log(3.548176141804668-epsilon_noise[5])+log(19.703127523430677-epsilon_noise[5])+log(13.190839905683282-epsilon_noise[5])+log(22.73703853093405-epsilon_noise[5])+log(5.975615412708404-epsilon_noise[5])+log(4.033946847937108-epsilon_noise[5])+log(15.128344543157722-epsilon_noise[5])+log(13.893433079376017-epsilon_noise[5])+log(16.206064189014885-epsilon_noise[5])+log(5.441815916472417-epsilon_noise[5])+log(8.592582692816565-epsilon_noise[5])-223.49253631555194+11*epsilon_noise[5],log(4.196100707221896-epsilon_noise[6])+log(11.421471612020465-epsilon_noise[6])+log(18.038858671383117-epsilon_noise[6])+log(17.910991961168353-epsilon_noise[6])+log(5.658245178486715-epsilon_noise[6])+log(4.067204269283519-epsilon_noise[6])+log(19.360740168133873-epsilon_noise[6])+log(17.82351914332282-epsilon_noise[6])+log(19.203430516897654-epsilon_noise[6])+log(17.321938560024783-epsilon_noise[6])+log(8.920775169958974-epsilon_noise[6])-221.9214289793983+11*epsilon_noise[6],log(4.09737739087727-epsilon_noise[7])+log(14.095898924711182-epsilon_noise[7])+log(24.798568974346665-epsilon_noise[7])+log(19.815257094381135-epsilon_noise[7])+log(4.1498134621018785-epsilon_noise[7])+log(3.9231185327770244-epsilon_noise[7])+log(15.567273041256222-epsilon_noise[7])+log(19.477449326350033-epsilon_noise[7])+log(21.37170866193523-epsilon_noise[7])+log(13.333445345974383-epsilon_noise[7])+log(9.267739430685886-epsilon_noise[7])-227.75954255200946+11*epsilon_noise[7],log(3.756119207354805-epsilon_noise[8])+log(10.175259076313946-epsilon_noise[8])+log(17.940257172487655-epsilon_noise[8])+log(23.274502770716182-epsilon_noise[8])+log(4.826222067162186-epsilon_noise[8])+log(3.8376799736866776-epsilon_noise[8])+log(11.527917590307833-epsilon_noise[8])+log(18.91171540799298-epsilon_noise[8])+log(7.264999512423052-epsilon_noise[8])+log(9.033674275916354-epsilon_noise[8])+log(7.272397416293066-epsilon_noise[8])-223.78778118756247+11*epsilon_noise[8],log(11.270916837261336-epsilon_noise[9])+log(8.450264565199458-epsilon_noise[9])+log(14.812505741817445-epsilon_noise[9])+log(24.551197233707143-epsilon_noise[9])+log(6.623230799439662-epsilon_noise[9])+log(4.712345850108344-epsilon_noise[9])+log(13.020418171146595-epsilon_noise[9])+log(16.600480707682234-epsilon_noise[9])+log(21.70914516083306-epsilon_noise[9])+log(17.12635803786681-epsilon_noise[9])+log(9.620597352086925-epsilon_noise[9])-219.44692770891567+11*epsilon_noise[9],log(4.02189118345734-epsilon_noise[10])+log(5.660532790899291-epsilon_noise[10])+log(13.324044939242095-epsilon_noise[10])+log(18.82135630788453-epsilon_noise[10])+log(5.400030223582693-epsilon_noise[10])+log(4.048638353225666-epsilon_noise[10])+log(15.25687525579886-epsilon_noise[10])+log(21.84601999334137-epsilon_noise[10])+log(15.488690247028778-epsilon_noise[10])+log(13.6298805812219-epsilon_noise[10])+log(10.17443648950412-epsilon_noise[10])-222.4863792027969+11*epsilon_noise[10],log(4.1619559029601705-epsilon_noise[11])+log(13.543769181792015-epsilon_noise[11])+log(17.43540179946151-epsilon_noise[11])+log(23.515342018260192-epsilon_noise[11])+log(10.249803552803154-epsilon_noise[11])+log(4.0363675983358815-epsilon_noise[11])+log(13.999169090556673-epsilon_noise[11])+log(17.242047843229383-epsilon_noise[11])+log(24.500126797928473-epsilon_noise[11])+log(10.585619470160838-epsilon_noise[11])+log(10.289876655217974-epsilon_noise[11])-216.48267308852567+11*epsilon_noise[11],log(4.367317913640205-epsilon_noise[12])+log(15.814310319489143-epsilon_noise[12])+log(14.36937648615491-epsilon_noise[12])+log(25.434916559571-epsilon_noise[12])+log(6.161531422801375-epsilon_noise[12])+log(4.464893327280999-epsilon_noise[12])+log(13.938107069283548-epsilon_noise[12])+log(20.050336070300155-epsilon_noise[12])+log(20.219526685879977-epsilon_noise[12])+log(8.77139196834613-epsilon_noise[12])+log(9.83584855076334-epsilon_noise[12])-217.7970492725637+11*epsilon_noise[12],log(3.4065489774812003-epsilon_noise[13])+log(6.857978840970492-epsilon_noise[13])+log(12.152856771587087-epsilon_noise[13])+log(26.434217980130065-epsilon_noise[13])+log(6.824048388791953-epsilon_noise[13])+log(3.96016854151101-epsilon_noise[13])+log(15.16760704777925-epsilon_noise[13])+log(9.469801900909246-epsilon_noise[13])+log(18.907740646128914-epsilon_noise[13])+log(8.519219179145745-epsilon_noise[13])+log(6.826695338914194-epsilon_noise[13])-223.1488542309623+11*epsilon_noise[13],log(4.196100707221896-epsilon_noise[14])+log(12.719099521409607-epsilon_noise[14])+log(13.01395899780671-epsilon_noise[14])+log(21.64473495139037-epsilon_noise[14])+log(6.236197632300625-epsilon_noise[14])+log(4.416383693613403-epsilon_noise[14])+log(12.919837324237214-epsilon_noise[14])+log(16.876351474944684-epsilon_noise[14])+log(20.191171478749375-epsilon_noise[14])+log(5.843716275795979-epsilon_noise[14])+log(8.36885667075677-epsilon_noise[14])-221.50972614135034+11*epsilon_noise[14],log(3.4632348947620155-epsilon_noise[15])+log(10.959752123739467-epsilon_noise[15])+log(14.982947426466975-epsilon_noise[15])+log(5.056581330414968-epsilon_noise[15])+log(4.711527867995909-epsilon_noise[15])+log(3.849052842859147-epsilon_noise[15])+log(9.766397654015162-epsilon_noise[15])+log(24.3289417768248-epsilon_noise[15])+log(20.393481509092346-epsilon_noise[15])+log(13.869733544851538-epsilon_noise[15])+log(10.520380184991781-epsilon_noise[15])-225.7566456533655+11*epsilon_noise[15],log(3.646437812267858-epsilon_noise[16])+log(19.08457260989769-epsilon_noise[16])+log(10.671768149302869-epsilon_noise[16])+log(20.204977959982905-epsilon_noise[16])+log(7.471201905114418-epsilon_noise[16])+log(3.6984983226396286-epsilon_noise[16])+log(16.58002927779305-epsilon_noise[16])+log(23.504646984965053-epsilon_noise[16])+log(16.249489850673527-epsilon_noise[16])+log(18.1108481630938-epsilon_noise[16])+log(5.098287861919124-epsilon_noise[16])-223.42556251688316+11*epsilon_noise[16],log(3.5220574755041256-epsilon_noise[17])+log(14.011108698694555-epsilon_noise[17])+log(14.203442261264438-epsilon_noise[17])+log(22.44740133078851-epsilon_noise[17])+log(6.619562859517396-epsilon_noise[17])+log(3.6180829538334445-epsilon_noise[17])+log(14.674642341458846-epsilon_noise[17])+log(13.169547429433566-epsilon_noise[17])+log(26.214004061152274-epsilon_noise[17])+log(9.211784721111119-epsilon_noise[17])+log(4.809197131515525-epsilon_noise[17])-224.44986190876782+11*epsilon_noise[17],log(3.6657251955889096-epsilon_noise[18])+log(10.819391409249215-epsilon_noise[18])+log(17.21336827449906-epsilon_noise[18])+log(20.788161559271874-epsilon_noise[18])+log(7.613844660641643-epsilon_noise[18])+log(4.2353350483705885-epsilon_noise[18])+log(12.521496540419921-epsilon_noise[18])+log(21.378628556591842-epsilon_noise[18])+log(18.201852710603184-epsilon_noise[18])+log(11.190877876821745-epsilon_noise[18])+log(7.920062001754646-epsilon_noise[18])-220.1865209763235+11*epsilon_noise[18],log(3.973705251456611-epsilon_noise[19])+log(13.62457331132587-epsilon_noise[19])+log(15.00057056273883-epsilon_noise[19])+log(26.743268572303535-epsilon_noise[19])+log(7.153347732312266-epsilon_noise[19])+log(12.339434861437713-epsilon_noise[19])+log(10.351351819863822-epsilon_noise[19])+log(12.809179729969788-epsilon_noise[19])+log(18.586159037476637-epsilon_noise[19])+log(8.184031915323814-epsilon_noise[19])+log(6.116648431965791-epsilon_noise[19])-220.38867623745358+11*epsilon_noise[19],log(3.7897834461847677-epsilon_noise[20])+log(15.565127515831694-epsilon_noise[20])+log(13.747655454680011-epsilon_noise[20])+log(30.5901338769496-epsilon_noise[20])+log(12.8712169026477-epsilon_noise[20])+log(4.371870267645923-epsilon_noise[20])+log(12.08246970601354-epsilon_noise[20])+log(16.541336868354165-epsilon_noise[20])+log(24.039391444217642-epsilon_noise[20])+log(12.183606012777815-epsilon_noise[20])+log(9.591112803387961-epsilon_noise[20])-218.7982662437422+11*epsilon_noise[20],log(10.803511629735853-epsilon_noise[21])+log(12.194346252624847-epsilon_noise[21])+log(23.86199645888977-epsilon_noise[21])+log(14.647326225007388-epsilon_noise[21])+log(5.184660133024571-epsilon_noise[21])+log(4.325261886984819-epsilon_noise[21])+log(16.804275388202484-epsilon_noise[21])+log(19.501732397642577-epsilon_noise[21])+log(13.866447665476306-epsilon_noise[21])+log(18.836581772224104-epsilon_noise[21])+log(12.189390918973976-epsilon_noise[21])-218.0994112472579+11*epsilon_noise[21],log(3.9286399097865963-epsilon_noise[22])+log(17.685165392533285-epsilon_noise[22])+log(16.206464787814948-epsilon_noise[22])+log(14.38785687617874-epsilon_noise[22])+log(6.750183914547351-epsilon_noise[22])+log(4.6835754919205215-epsilon_noise[22])+log(19.650164669642237-epsilon_noise[22])+log(24.5995035259397-epsilon_noise[22])+log(19.95793365412959-epsilon_noise[22])+log(10.84985843122594-epsilon_noise[22])+log(10.055796432126918-epsilon_noise[22])-214.60723085104507+11*epsilon_noise[22],log(3.6412143339864773-epsilon_noise[23])+log(14.273077803227526-epsilon_noise[23])+log(16.801087962347463-epsilon_noise[23])+log(24.40072840310176-epsilon_noise[23])+log(10.789655638488632-epsilon_noise[23])+log(4.1322571647785455-epsilon_noise[23])+log(16.86949965972447-epsilon_noise[23])+log(12.700021499120181-epsilon_noise[23])+log(13.212607298123979-epsilon_noise[23])+log(11.981982579337478-epsilon_noise[23])+log(10.084570216026474-epsilon_noise[23])-222.8558422429762+11*epsilon_noise[23],log(3.7176025168711493-epsilon_noise[24])+log(7.11473107234949-epsilon_noise[24])+log(10.554353668002111-epsilon_noise[24])+log(22.33175299134112-epsilon_noise[24])+log(7.8026502006587295-epsilon_noise[24])+log(4.739935937432323-epsilon_noise[24])+log(17.14272136325454-epsilon_noise[24])+log(24.891353964669232-epsilon_noise[24])+log(21.56899959652268-epsilon_noise[24])+log(14.036628789864587-epsilon_noise[24])+log(9.644682098049293-epsilon_noise[24])-218.56772326455186+11*epsilon_noise[24],log(4.424661850211915-epsilon_noise[25])+log(17.390221770445145-epsilon_noise[25])+log(16.933946300593966-epsilon_noise[25])+log(19.632542944949304-epsilon_noise[25])+log(7.997334075686567-epsilon_noise[25])+log(3.6735083063466294-epsilon_noise[25])+log(15.325714200079311-epsilon_noise[25])+log(24.977116217167982-epsilon_noise[25])+log(17.591497935212313-epsilon_noise[25])+log(13.792723962206708-epsilon_noise[25])+log(12.603790253733855-epsilon_noise[25])-219.3136210544848+11*epsilon_noise[25],log(3.8414297223026646-epsilon_noise[26])+log(14.293611917567567-epsilon_noise[26])+log(16.03089774737524-epsilon_noise[26])+log(24.645229122945892-epsilon_noise[26])+log(7.213409086662116-epsilon_noise[26])+log(11.411238433450228-epsilon_noise[26])+log(10.645192123886881-epsilon_noise[26])+log(20.903162415738464-epsilon_noise[26])+log(17.01562409455264-epsilon_noise[26])+log(17.835205240872675-epsilon_noise[26])+log(9.492920703792326-epsilon_noise[26])-217.33479206230524+11*epsilon_noise[26],log(4.485921947160825-epsilon_noise[27])+log(12.690555064989269-epsilon_noise[27])+log(23.466705830853947-epsilon_noise[27])+log(18.91495625489229-epsilon_noise[27])+log(8.074956788902718-epsilon_noise[27])+log(4.035858212693942-epsilon_noise[27])+log(16.889659853622764-epsilon_noise[27])+log(23.731500389693117-epsilon_noise[27])+log(16.32741269020043-epsilon_noise[27])+log(9.022940250383199-epsilon_noise[27])+log(11.136877203455382-epsilon_noise[27])-218.3368857835632+11*epsilon_noise[27],log(4.240092578560175-epsilon_noise[28])+log(18.187407813083823-epsilon_noise[28])+log(16.049251383291953-epsilon_noise[28])+log(19.60414759166204-epsilon_noise[28])+log(7.110099431901379-epsilon_noise[28])+log(4.168140728216857-epsilon_noise[28])+log(16.49158494652052-epsilon_noise[28])+log(22.669713837891383-epsilon_noise[28])+log(15.870990655582286-epsilon_noise[28])+log(17.798415345654412-epsilon_noise[28])+log(7.833182466540515-epsilon_noise[28])-218.88765183995696+11*epsilon_noise[28],log(4.079889738348792-epsilon_noise[29])+log(13.73799040238565-epsilon_noise[29])+log(24.262026693660715-epsilon_noise[29])+log(15.422984060686353-epsilon_noise[29])+log(12.849666663180965-epsilon_noise[29])+log(4.30445652812045-epsilon_noise[29])+log(16.800710932658422-epsilon_noise[29])+log(18.425830117515776-epsilon_noise[29])+log(23.174454035910095-epsilon_noise[29])+log(13.20145963613557-epsilon_noise[29])+log(11.645861609908781-epsilon_noise[29])-215.69857765788484+11*epsilon_noise[29],log(3.5965946298483704-epsilon_noise[30])+log(12.784006772980003-epsilon_noise[30])+log(25.890479430596503-epsilon_noise[30])+log(14.238492401257805-epsilon_noise[30])+log(4.424560024569571-epsilon_noise[30])+log(12.400750923187935-epsilon_noise[30])+log(10.034025862745597-epsilon_noise[30])+log(24.18072413178431-epsilon_noise[30])+log(21.329909376822773-epsilon_noise[30])+log(16.49819458829672-epsilon_noise[30])+log(8.965941877697466-epsilon_noise[30])-221.1813312227005+11*epsilon_noise[30],log(3.8924986149956005-epsilon_noise[31])+log(13.154618740429655-epsilon_noise[31])+log(24.741733594549757-epsilon_noise[31])+log(14.475775470599931-epsilon_noise[31])+log(7.53353168586952-epsilon_noise[31])+log(3.741853565120866-epsilon_noise[31])+log(3.696804925507167-epsilon_noise[31])+log(21.81860233160573-epsilon_noise[31])+log(18.37520802665985-epsilon_noise[31])+log(12.275746477317883-epsilon_noise[31])+log(11.411922706343308-epsilon_noise[31])-220.33196518275574+11*epsilon_noise[31],log(10.528730528124871-epsilon_noise[32])+log(9.47130480314145-epsilon_noise[32])+log(29.585964336729944-epsilon_noise[32])+log(13.778742864093386-epsilon_noise[32])+log(8.76673023583413-epsilon_noise[32])+log(4.805482305176626-epsilon_noise[32])+log(7.106631483683842-epsilon_noise[32])+log(24.986968949389333-epsilon_noise[32])+log(17.553781813527166-epsilon_noise[32])+log(14.371706051414517-epsilon_noise[32])+log(13.627474784207429-epsilon_noise[32])-216.35518747305878+11*epsilon_noise[32],log(8.997922026160987-epsilon_noise[33])+log(10.24134314820732-epsilon_noise[33])+log(28.312918260332417-epsilon_noise[33])+log(18.66727127630096-epsilon_noise[33])+log(10.905627067897173-epsilon_noise[33])+log(3.6161733989184572-epsilon_noise[33])+log(6.674211815541865-epsilon_noise[33])+log(22.042767268390023-epsilon_noise[33])+log(14.39703211483868-epsilon_noise[33])+log(9.335421611970139-epsilon_noise[33])+log(10.293622944990652-epsilon_noise[33])-220.22217800277133+11*epsilon_noise[33],log(3.5139807235337446-epsilon_noise[34])+log(16.354002585752866-epsilon_noise[34])+log(14.158351130221288-epsilon_noise[34])+log(21.416182255404884-epsilon_noise[34])+log(5.799175802700653-epsilon_noise[34])+log(4.16276000349094-epsilon_noise[34])+log(10.925650331371422-epsilon_noise[34])+log(18.273716158039054-epsilon_noise[34])+log(25.2875318454275-epsilon_noise[34])+log(10.388771385713593-epsilon_noise[34])+log(10.521765826247691-epsilon_noise[34])-220.08123296428488+11*epsilon_noise[34],log(4.173280644033801-epsilon_noise[35])+log(16.311691904712482-epsilon_noise[35])+log(28.135166482720145-epsilon_noise[35])+log(15.071142749010953-epsilon_noise[35])+log(14.326039533832141-epsilon_noise[35])+log(4.04506974100808-epsilon_noise[35])+log(22.58800041658869-epsilon_noise[35])+log(16.756104246505878-epsilon_noise[35])+log(22.0310724156232-epsilon_noise[35])+log(10.180672604501002-epsilon_noise[35])+log(8.492157211254954-epsilon_noise[35])-217.54467458811214+11*epsilon_noise[35],log(4.0176569673981515-epsilon_noise[36])+log(15.594389621308574-epsilon_noise[36])+log(16.44108220956156-epsilon_noise[36])+log(26.254425298614045-epsilon_noise[36])+log(5.355437166833736-epsilon_noise[36])+log(4.201917446013555-epsilon_noise[36])+log(17.626488545389492-epsilon_noise[36])+log(20.85587535805746-epsilon_noise[36])+log(4.916094206873844-epsilon_noise[36])+log(6.485532134043151-epsilon_noise[36])+log(6.902735493373804-epsilon_noise[36])-225.51804803791032+11*epsilon_noise[36],log(3.9185353194653416-epsilon_noise[37])+log(17.248602147475196-epsilon_noise[37])+log(19.179718122845188-epsilon_noise[37])+log(20.575943978334926-epsilon_noise[37])+log(3.921191369870588-epsilon_noise[37])+log(3.9640509511915374-epsilon_noise[37])+log(13.468625939753824-epsilon_noise[37])+log(11.394097222357749-epsilon_noise[37])+log(16.404843080981067-epsilon_noise[37])+log(12.288177207023866-epsilon_noise[37])+log(10.392905835405138-epsilon_noise[37])-222.54713785128945+11*epsilon_noise[37],log(4.715100895865793-epsilon_noise[38])+log(15.463244210420196-epsilon_noise[38])+log(14.778020089795762-epsilon_noise[38])+log(23.110322233514726-epsilon_noise[38])+log(4.962486802269087-epsilon_noise[38])+log(3.9724212472200024-epsilon_noise[38])+log(7.062150606214557-epsilon_noise[38])+log(12.15021393808236-epsilon_noise[38])+log(14.45110973841033-epsilon_noise[38])+log(10.930351101648165-epsilon_noise[38])+log(11.03613116663103-epsilon_noise[38])-223.7931101763057+11*epsilon_noise[38],log(4.28969758011309-epsilon_noise[39])+log(11.735254127281355-epsilon_noise[39])+log(15.91103986067992-epsilon_noise[39])+log(24.851448482592296-epsilon_noise[39])+log(6.821945627579972-epsilon_noise[39])+log(3.8928049369872957-epsilon_noise[39])+log(7.053941697177445-epsilon_noise[39])+log(10.527197028498641-epsilon_noise[39])+log(21.449204978168993-epsilon_noise[39])+log(12.32977208721533-epsilon_noise[39])+log(10.145147617558017-epsilon_noise[39])-220.09489008418322+11*epsilon_noise[39],log(3.8667981970853065-epsilon_noise[40])+log(11.500302695371998-epsilon_noise[40])+log(22.580807028196148-epsilon_noise[40])+log(16.929923740136786-epsilon_noise[40])+log(7.586437307126138-epsilon_noise[40])+log(4.12555788364341-epsilon_noise[40])+log(16.416235725213518-epsilon_noise[40])+log(23.31568281298557-epsilon_noise[40])+log(16.166175778317797-epsilon_noise[40])+log(10.015456595935913-epsilon_noise[40])+log(7.659438681223959-epsilon_noise[40])-220.0677822113958+11*epsilon_noise[40],log(3.9245920098964753-epsilon_noise[41])+log(15.940554102572298-epsilon_noise[41])+log(17.246517381493366-epsilon_noise[41])+log(25.821976147992192-epsilon_noise[41])+log(7.923501592985716-epsilon_noise[41])+log(3.5321163915515927-epsilon_noise[41])+log(15.728510545753693-epsilon_noise[41])+log(19.367001078556598-epsilon_noise[41])+log(15.426990683072106-epsilon_noise[41])+log(11.200916128432953-epsilon_noise[41])+log(4.700914489710813-epsilon_noise[41])-223.41480026474608+11*epsilon_noise[41],log(3.683444241715653-epsilon_noise[42])+log(10.331539526657261-epsilon_noise[42])+log(5.133861170532247-epsilon_noise[42])+log(15.030410676203417-epsilon_noise[42])+log(6.494393341113096-epsilon_noise[42])+log(4.094361264685305-epsilon_noise[42])+log(20.819343963596012-epsilon_noise[42])+log(10.347060974388892-epsilon_noise[42])+log(22.91346498841628-epsilon_noise[42])+log(5.319029597901748-epsilon_noise[42])+log(8.296565137065004-epsilon_noise[42])-223.50356934141797+11*epsilon_noise[42],log(3.9084811259985632-epsilon_noise[43])+log(11.51828298765543-epsilon_noise[43])+log(13.683817163392428-epsilon_noise[43])+log(19.9416930164008-epsilon_noise[43])+log(10.416589858949736-epsilon_noise[43])+log(3.618427773439109-epsilon_noise[43])+log(15.731321162415837-epsilon_noise[43])+log(22.254031715314255-epsilon_noise[43])+log(13.628304034430194-epsilon_noise[43])+log(10.951797189063278-epsilon_noise[43])+log(7.49029291971989-epsilon_noise[43])-219.90409523715354+11*epsilon_noise[43],log(3.8766434540014263-epsilon_noise[44])+log(21.842357843127072-epsilon_noise[44])+log(12.726489506193477-epsilon_noise[44])+log(16.446651828528523-epsilon_noise[44])+log(8.039155898584061-epsilon_noise[44])+log(3.9235988261874395-epsilon_noise[44])+log(9.77791437497979-epsilon_noise[44])+log(21.491147862641775-epsilon_noise[44])+log(15.299233813123653-epsilon_noise[44])+log(11.746008494320776-epsilon_noise[44])+log(10.064431066520202-epsilon_noise[44])-217.44548247863372+11*epsilon_noise[44],log(3.977851476121853-epsilon_noise[45])+log(14.530539579205907-epsilon_noise[45])+log(16.538876034115116-epsilon_noise[45])+log(24.55388561684566-epsilon_noise[45])+log(10.599861322694002-epsilon_noise[45])+log(5.019184142324699-epsilon_noise[45])+log(9.439094822740813-epsilon_noise[45])+log(17.643001266574746-epsilon_noise[45])+log(21.607289862443412-epsilon_noise[45])+log(11.934234632015603-epsilon_noise[45])+log(7.895494074567707-epsilon_noise[45])-218.1761934931182+11*epsilon_noise[45],log(3.076235890070307-epsilon_noise[46])+log(11.340416339297615-epsilon_noise[46])+log(13.061014068950268-epsilon_noise[46])+log(19.693826793574214-epsilon_noise[46])+log(4.859968323602226-epsilon_noise[46])+log(4.203149584003362-epsilon_noise[46])+log(13.816250460348384-epsilon_noise[46])+log(17.69088346655044-epsilon_noise[46])+log(26.20078010349323-epsilon_noise[46])+log(8.753409662780726-epsilon_noise[46])+log(7.4718890314817425-epsilon_noise[46])-223.67266521483572+11*epsilon_noise[46],log(3.7067454974400387-epsilon_noise[47])+log(18.37221035067452-epsilon_noise[47])+log(19.02860264166169-epsilon_noise[47])+log(26.908825007237333-epsilon_noise[47])+log(8.834609859069412-epsilon_noise[47])+log(3.8048002946108213-epsilon_noise[47])+log(16.246507207844026-epsilon_noise[47])+log(15.457779250008056-epsilon_noise[47])+log(19.154221579510907-epsilon_noise[47])+log(5.653837210485172-epsilon_noise[47])+log(6.5161891302537285-epsilon_noise[47])-222.05128626887392+11*epsilon_noise[47],log(3.7413507290951844-epsilon_noise[48])+log(13.92527228727727-epsilon_noise[48])+log(9.931751844409135-epsilon_noise[48])+log(14.11740008878456-epsilon_noise[48])+log(4.51229167469185-epsilon_noise[48])+log(3.873867140471906-epsilon_noise[48])+log(16.847826812421495-epsilon_noise[48])+log(24.84700637031937-epsilon_noise[48])+log(16.470159353420158-epsilon_noise[48])+log(13.998485654660342-epsilon_noise[48])+log(8.082990871692372-epsilon_noise[48])-221.9862137529444+11*epsilon_noise[48],log(3.455451521637025-epsilon_noise[49])+log(16.061053275890817-epsilon_noise[49])+log(14.708470040314694-epsilon_noise[49])+log(24.396424424284945-epsilon_noise[49])+log(5.824895794598524-epsilon_noise[49])+log(7.0172864110457445-epsilon_noise[49])+log(3.740331021353675-epsilon_noise[49])+log(11.630189573760646-epsilon_noise[49])+log(12.892711555140757-epsilon_noise[49])+log(8.882523740620984-epsilon_noise[49])+log(5.074836042950723-epsilon_noise[49])-230.3357935393433+11*epsilon_noise[49]]\n",
    "    return expresion\n",
    "r = fsolve(func_new,[0.0]*50)\n",
    "print(r)"
   ]
  },
  {
   "cell_type": "code",
   "execution_count": 50,
   "metadata": {},
   "outputs": [
    {
     "name": "stdout",
     "output_type": "stream",
     "text": [
      "['math.log(3.7727261703412607-epsilon_noise[0])+math.log(5.301018647597431-epsilon_noise[0])+math.log(12.97329592309766-epsilon_noise[0])+math.log(12.331553000793846-epsilon_noise[0])+math.log(6.117248333740896-epsilon_noise[0])+math.log(4.321747805858679-epsilon_noise[0])+math.log(9.023739569183459-epsilon_noise[0])+math.log(17.019310201565325-epsilon_noise[0])+math.log(15.303634374979012-epsilon_noise[0])+math.log(6.889877336204653-epsilon_noise[0])+math.log(10.030789403439488-epsilon_noise[0])-220.25195493493695+11*3*epsilon_noise[0]']\n"
     ]
    }
   ],
   "source": [
    "list_result = []\n",
    "list_str = 'math.log(3.7727261703412607-epsilon_noise[0])+math.log(5.301018647597431-epsilon_noise[0])+math.log(12.97329592309766-epsilon_noise[0])+math.log(12.331553000793846-epsilon_noise[0])+math.log(6.117248333740896-epsilon_noise[0])+math.log(4.321747805858679-epsilon_noise[0])+math.log(9.023739569183459-epsilon_noise[0])+math.log(17.019310201565325-epsilon_noise[0])+math.log(15.303634374979012-epsilon_noise[0])+math.log(6.889877336204653-epsilon_noise[0])+math.log(10.030789403439488-epsilon_noise[0])-220.25195493493695+11*3*epsilon_noise[0]'\n",
    "list_new  = list_str.replace(\"'\",\"\")\n",
    "list_result.append(list_new)\n",
    "print(list_result)"
   ]
  },
  {
   "cell_type": "code",
   "execution_count": 62,
   "metadata": {},
   "outputs": [
    {
     "name": "stdout",
     "output_type": "stream",
     "text": [
      "[1.13277996 0.96553868 0.90142358]\n"
     ]
    }
   ],
   "source": [
    "from scipy.optimize import fsolve\n",
    "from scipy import log\n",
    "import math\n",
    "def func(i):\n",
    "    return [log(i[0]+3.0) + 2 * i[1] + 3 * i[2] - 6, 5 * (i[0] ** 2) + 6 * (i[1] ** 2) + 7 * (i[2] ** 2) - 18, 9 * (i[0] ** 3) + 10 * (i[1] ** 3) + 11 * (i[2]) ** 3 - 30] \n",
    "r = fsolve(func,[0, 0, 0])\n",
    "print(r)"
   ]
  },
  {
   "cell_type": "code",
   "execution_count": 70,
   "metadata": {},
   "outputs": [
    {
     "name": "stdout",
     "output_type": "stream",
     "text": [
      "end time is: 2020-02-19 22:55:17.489219\n"
     ]
    }
   ],
   "source": [
    "import datetime\n",
    "print('end time is:',datetime.datetime.today() )\n"
   ]
  },
  {
   "cell_type": "code",
   "execution_count": 1,
   "metadata": {},
   "outputs": [],
   "source": [
    "zc_list = [[1,2],[3,4]]"
   ]
  },
  {
   "cell_type": "code",
   "execution_count": 7,
   "metadata": {},
   "outputs": [
    {
     "data": {
      "text/plain": [
       "[1, 2]"
      ]
     },
     "execution_count": 7,
     "metadata": {},
     "output_type": "execute_result"
    }
   ],
   "source": [
    "zc_list[:][0]"
   ]
  },
  {
   "cell_type": "code",
   "execution_count": 2,
   "metadata": {},
   "outputs": [
    {
     "name": "stdout",
     "output_type": "stream",
     "text": [
      "[0.34737334 0.34666146 0.35409824 0.34304759 0.37154256 0.36150911\n",
      " 0.33518543 0.42439372 0.36491474 0.34680255]\n"
     ]
    }
   ],
   "source": [
    "import numpy as np\n",
    "epsilon_noise = np.random.lognormal(mean=-1.0, sigma=0.1, size=10)\n",
    "print(epsilon_noise)"
   ]
  },
  {
   "cell_type": "code",
   "execution_count": 3,
   "metadata": {},
   "outputs": [
    {
     "name": "stdout",
     "output_type": "stream",
     "text": [
      "tensor([0.3474, 0.3467, 0.3541, 0.3430, 0.3715, 0.3615, 0.3352, 0.4244, 0.3649,\n",
      "        0.3468], dtype=torch.float64)\n"
     ]
    }
   ],
   "source": [
    "import torch\n",
    "epsilon = torch.tensor(epsilon_noise)\n",
    "print(epsilon)"
   ]
  },
  {
   "cell_type": "code",
   "execution_count": 2,
   "metadata": {},
   "outputs": [
    {
     "name": "stdout",
     "output_type": "stream",
     "text": [
      "\n",
      "nu is : -5.0\n",
      "sigam is: 0.1\n",
      "\n",
      "E is: 0.006771721098967921\n",
      "Var is: 1.7039097526934544e-05\n",
      "\n",
      "3倍下界是: 0.004991593906910215\n",
      "3倍上界是: 0.009095277101695819\n",
      "\n",
      "1倍下界是: 0.006096746565515635\n",
      "1倍上界是: 0.007446583070924341\n"
     ]
    }
   ],
   "source": [
    "import math\n",
    "from scipy.optimize import fsolve\n",
    "from scipy import log\n",
    "import numpy as np\n",
    "\n",
    "nu = -5.0\n",
    "sigma = 0.1\n",
    "\n",
    "print('\\nnu is :',nu)\n",
    "print('sigam is:',sigma)\n",
    "\n",
    "print('\\nE is:', math.exp(nu + sigma**2/2))\n",
    "print('Var is:', math.exp(sigma**2-1)* math.exp(2*nu+sigma**2))\n",
    "\n",
    "print('\\n3倍下界是:', math.exp(nu) / (math.exp(sigma))**3)\n",
    "print('3倍上界是:', math.exp(nu) * (math.exp(sigma))**3)\n",
    "\n",
    "print('\\n1倍下界是:', math.exp(nu) / math.exp(sigma))\n",
    "print('1倍上界是:', math.exp(nu) * math.exp(sigma))"
   ]
  },
  {
   "cell_type": "code",
   "execution_count": 9,
   "metadata": {},
   "outputs": [
    {
     "name": "stdout",
     "output_type": "stream",
     "text": [
      "tensor([[[-0.9197, -0.3984,  1.9545],\n",
      "         [ 0.1879,  1.2370,  0.8208],\n",
      "         [-0.4152,  0.8061, -1.1224]],\n",
      "\n",
      "        [[ 0.5683, -1.9313, -0.0179],\n",
      "         [-0.5725, -2.4577, -0.1254],\n",
      "         [-0.0439,  1.2105,  2.0453]]])\n",
      "tensor([[[-0.9197,  0.0000,  0.0000],\n",
      "         [ 0.1879,  1.2370,  0.0000],\n",
      "         [-0.4152,  0.8061, -1.1224]],\n",
      "\n",
      "        [[ 0.5683,  0.0000,  0.0000],\n",
      "         [-0.5725, -2.4577,  0.0000],\n",
      "         [-0.0439,  1.2105,  2.0453]]])\n"
     ]
    }
   ],
   "source": [
    "import torch\n",
    "\n",
    "n = torch.randn(2, 3, 3)\n",
    "print(n)\n",
    "for i in range(2):\n",
    "    n[i,:,:] = torch.tril(n[i,:,:])\n",
    "print(n)"
   ]
  },
  {
   "cell_type": "code",
   "execution_count": 17,
   "metadata": {},
   "outputs": [
    {
     "name": "stdout",
     "output_type": "stream",
     "text": [
      "[1. 2.]\n"
     ]
    }
   ],
   "source": [
    "import numpy as np\n",
    "threshold_range = np.linspace(1,2,2)\n",
    "print(threshold_range)"
   ]
  },
  {
   "cell_type": "code",
   "execution_count": 14,
   "metadata": {},
   "outputs": [
    {
     "name": "stdout",
     "output_type": "stream",
     "text": [
      "0 1.0\n",
      "1 1.263157894736842\n",
      "2 1.526315789473684\n",
      "3 1.7894736842105263\n",
      "4 2.052631578947368\n",
      "5 2.3157894736842106\n",
      "6 2.5789473684210527\n",
      "7 2.8421052631578947\n",
      "8 3.1052631578947367\n",
      "9 3.3684210526315788\n",
      "10 3.631578947368421\n",
      "11 3.894736842105263\n",
      "12 4.157894736842105\n",
      "13 4.421052631578947\n",
      "14 4.684210526315789\n",
      "15 4.947368421052632\n",
      "16 5.2105263157894735\n",
      "17 5.473684210526316\n",
      "18 5.7368421052631575\n",
      "19 6.0\n"
     ]
    }
   ],
   "source": [
    "for i,num in enumerate(threshold_range):\n",
    "    print(i,num)"
   ]
  },
  {
   "cell_type": "code",
   "execution_count": 16,
   "metadata": {},
   "outputs": [
    {
     "name": "stdout",
     "output_type": "stream",
     "text": [
      "4\n"
     ]
    }
   ],
   "source": [
    "print(np.sum(threshold_range < 2))"
   ]
  },
  {
   "cell_type": "code",
   "execution_count": 1,
   "metadata": {},
   "outputs": [],
   "source": [
    "a = [0.0015999399837052885, 0.001114156503264782, 0.0010812452843931425, 0.0011555533480610682, 0.0014930623501552235, 0.002062007258019199, 0.002517991883218564, 0.0030771831394625637, 0.0037045261649431855, 0.0060020026085620595, 0.032946853139424595, 1.9025681423404872, 0.001507512556688227, 0.001069591556678635, 0.0011254467348991422, 0.001488452034975277, 0.002087577938514166, 0.0025893862113232627, 0.003082891341179762, 0.0037124781485762134, 0.006027445858156481, 0.032289265135900545, 0.012736689353436215, 1.9464348363094655, 0.0015447979329726545, 0.0011252998255564498, 0.001525515825837555, 0.0020668396961219786, 0.002599674059114361, 0.003159435394276958, 0.0038279189137638936, 0.006070021112535042, 0.0332742655244546, 0.007126764318295825, 0.01718052597492065, 2.0031957017865496, 0.0016081795695778607, 0.0014216035225798503, 0.002026967378289233, 0.002520065963652869, 0.003093480311739643, 0.003615891211072837, 0.006069662120748136, 0.032339262143424974, 0.0045250494220030755, 0.007158665640946232, 0.015505262394537074, 2.0843267803764247, 0.0024228550246397657, 0.0019868379416607715, 0.0025373531221322006, 0.0031550822460157946, 0.0037046952501243098, 0.0060743675184236935, 0.03287898355780098, 0.002114375359693222, 0.002263661185416332, 0.0027419924011537465, 0.0033892709372421955, 2.714015962838294, 0.0033710670449009195, 0.002554381036371313, 0.00307130246469576, 0.0037164497706771633, 0.006015346971848625, 0.03425965490910758, 0.0014132293654320833, 0.0016344622634890302, 0.0017163076889943117, 0.0019528176521194905, 0.003920700033548995, 3.710476717127583, 0.0037006811305483923, 0.0031095819783161526, 0.003677455179176435, 0.006203733271501952, 0.03294637364794688, 0.0013219696637733992, 0.0014270847266631599, 0.0015573870443908713, 0.0017124905112332535, 0.0028238949342842376, 0.008497941581788493, 4.561042871377335, 0.004568482647712431, 0.0044967988934029686, 0.006051983370379231, 0.032572189769404986, 0.001291449458396062, 0.0013997458314593991, 0.0014655789612028267, 0.0016467260997014234, 0.0026150801676074436, 0.006692104076458292, 0.03608459294434947, 5.517729301027034, 0.005375881465042744, 0.005954566013996929, 0.03181955261857143, 0.0011779270414421698, 0.001240440552556101, 0.0013123530710198003, 0.001397538681368676, 0.0020759240816425723, 0.003727178631708745, 0.006640568687281828, 0.017501559512782882, 6.649609528100703, 0.010538581687883993, 0.032399266763261235, 0.001102268516682147, 0.0011774460200363423, 0.001198200166055381, 0.0012976122061977163, 0.0017652750286937086, 0.0027853718294631683, 0.0038349643102330764, 0.005834250645339069, 0.008145089397775066, 8.466308231823547, 13.459795781573064]"
   ]
  },
  {
   "cell_type": "code",
   "execution_count": 2,
   "metadata": {},
   "outputs": [],
   "source": [
    "b = [0.0015469261183411384, 0.001041865954543515, 0.0010639549128409402, 0.0011189718065368435, 0.0013860183468121824, 0.0018440892867622363, 0.0022466514405371407, 0.0027731959234338715, 0.0033822680000935514, 0.004917162783385918, 0.013778688623280796, 1.8315575590738618, 0.001430502176811699, 0.001057512650284535, 0.0010809403053993367, 0.0013904518528899707, 0.0018001972835714976, 0.0022908030066879958, 0.0027677709826878457, 0.003141915918498388, 0.0048974823816385306, 0.013729255885335943, 0.012553251514552105, 1.8659370996981068, 0.0014251547924306464, 0.0011175730259851142, 0.0013899460653479636, 0.0018954494237769382, 0.0023048018035316136, 0.002767000944126253, 0.003177664315490897, 0.004764023672475431, 0.013884225939900104, 0.006667001842498129, 0.017181140550002506, 1.9160771953177502, 0.0015492813105494093, 0.0013816067665808375, 0.0019403838649347301, 0.0022836982071590796, 0.0027218154873509697, 0.0033691324111688624, 0.004922849063818858, 0.014588671714703811, 0.004435573865424793, 0.006969749524384028, 0.015276669329492796, 1.99877432528398, 0.0022760542504478977, 0.0019031851713524398, 0.00226117939465946, 0.0027746618771950383, 0.003242495652628541, 0.004906707395634352, 0.014427771896648931, 0.0020490112396699778, 0.0022225852230512953, 0.0027694867644264937, 0.003241883312766878, 2.5601337923369267, 0.003096440601455547, 0.0022649809450508663, 0.002693691145968437, 0.00323873055507192, 0.00486668927052577, 0.014242779738661048, 0.001410252371688207, 0.0015813713177968798, 0.0016993491585032595, 0.001885542203748326, 0.003749638529783788, 3.4198812218382266, 0.0033419097328194515, 0.002722932128995571, 0.003173756717757457, 0.0049154742802707905, 0.014150493825192923, 0.0013307575666397418, 0.0013826562923891104, 0.0014484520585459108, 0.001677114749431871, 0.0027064218133412044, 0.008387838858733622, 4.127277284234195, 0.004028359102675838, 0.0038667719303211077, 0.005014895118611844, 0.014259328972687349, 0.0012673054658222124, 0.0013758377507212883, 0.001513376788930105, 0.001521946353446386, 0.0025070639745535723, 0.007014518829531285, 0.044816127988199894, 4.897083865194873, 0.004717079607188485, 0.004794476981088172, 0.0140879971334271, 0.0011936287098882092, 0.0012127433500603627, 0.0013033231525597583, 0.0013956182006044948, 0.001995254170841686, 0.0037449708004867127, 0.006204791589373766, 0.017012372925354135, 5.789615092996762, 0.008210422588365535, 0.014138623694496736, 0.0010674702774338708, 0.001156739244288967, 0.00122568501161548, 0.0012531397366889738, 0.00174882391975758, 0.0026964440454401864, 0.003942799708105792, 0.005589294097755505, 0.00857188431722038, 8.785403752816896, 0.05934743525397472]"
   ]
  },
  {
   "cell_type": "code",
   "execution_count": 5,
   "metadata": {},
   "outputs": [
    {
     "name": "stdout",
     "output_type": "stream",
     "text": [
      "[ 5.30138654e-05  7.22905487e-05  1.72903716e-05  3.65815415e-05\n",
      "  1.07044003e-04  2.17917971e-04  2.71340443e-04  3.03987216e-04\n",
      "  3.22258165e-04  1.08483983e-03  1.91681645e-02  7.10105833e-02\n",
      "  7.70103799e-05  1.20789064e-05  4.45064295e-05  9.80001821e-05\n",
      "  2.87380655e-04  2.98583205e-04  3.15120358e-04  5.70562230e-04\n",
      "  1.12996348e-03  1.85600093e-02  1.83437839e-04  8.04977366e-02\n",
      "  1.19643141e-04  7.72679957e-06  1.35569760e-04  1.71390272e-04\n",
      "  2.94872256e-04  3.92434450e-04  6.50254598e-04  1.30599744e-03\n",
      "  1.93900396e-02  4.59762476e-04 -6.14575082e-07  8.71185065e-02\n",
      "  5.88982590e-05  3.99967560e-05  8.65835134e-05  2.36367756e-04\n",
      "  3.71664824e-04  2.46758800e-04  1.14681306e-03  1.77505904e-02\n",
      "  8.94755566e-05  1.88916117e-04  2.28593065e-04  8.55524551e-02\n",
      "  1.46800774e-04  8.36527703e-05  2.76173727e-04  3.80420369e-04\n",
      "  4.62199597e-04  1.16766012e-03  1.84512117e-02  6.53641200e-05\n",
      "  4.10759624e-05 -2.74943633e-05  1.47387624e-04  1.53882171e-01\n",
      "  2.74626443e-04  2.89400091e-04  3.77611319e-04  4.77719216e-04\n",
      "  1.14865770e-03  2.00168752e-02  2.97699374e-06  5.30909457e-05\n",
      "  1.69585305e-05  6.72754484e-05  1.71061504e-04  2.90595495e-01\n",
      "  3.58771398e-04  3.86649849e-04  5.03698461e-04  1.28825899e-03\n",
      "  1.87958798e-02 -8.78790287e-06  4.44284343e-05  1.08934986e-04\n",
      "  3.53757618e-05  1.17473121e-04  1.10102723e-04  4.33765587e-01\n",
      "  5.40123545e-04  6.30026963e-04  1.03708825e-03  1.83128608e-02\n",
      "  2.41439926e-05  2.39080807e-05 -4.77978277e-05  1.24779746e-04\n",
      "  1.08016193e-04 -3.22414753e-04 -8.73153504e-03  6.20645436e-01\n",
      "  6.58801858e-04  1.16008903e-03  1.77315555e-02 -1.57016684e-05\n",
      "  2.76972025e-05  9.02991846e-06  1.92048076e-06  8.06699108e-05\n",
      " -1.77921688e-05  4.35777098e-04  4.89186587e-04  8.59994435e-01\n",
      "  2.32815910e-03  1.82606431e-02  3.47982392e-05  2.07067757e-05\n",
      " -2.74848456e-05  4.44724695e-05  1.64511089e-05  8.89277840e-05\n",
      " -1.07835398e-04  2.44956548e-04 -4.26794919e-04 -3.19095521e-01\n",
      "  1.34004483e+01]\n"
     ]
    }
   ],
   "source": [
    "import numpy\n",
    "a_array = numpy.array(a)\n",
    "b_array = numpy.array(b)\n",
    "c = a_array- b_array\n",
    "print(c)"
   ]
  },
  {
   "cell_type": "code",
   "execution_count": 6,
   "metadata": {},
   "outputs": [],
   "source": [
    "d = [0.7845847693335531, 0.001510578622491095, 0.0012660719378639617, 0.0011576175518529098, 0.0014175207156293956, 0.0009125817533387847, 0.0006395841068264802, 0.0005590014928265947, 0.0005613258266965631, 0.00048644027316097814, 0.00046727680658026853]"
   ]
  },
  {
   "cell_type": "code",
   "execution_count": 7,
   "metadata": {},
   "outputs": [],
   "source": [
    "e = [0.7826268556709828, 0.0017233388637638146, 0.0013774245698455802, 0.0013098798545931678, 0.0015463327763349682, 0.0009502915721924034, 0.0006783970905684112, 0.0005764734001804255, 0.0005872315132806294, 0.0005290977458160265, 0.00047799093958363634]"
   ]
  },
  {
   "cell_type": "code",
   "execution_count": 8,
   "metadata": {},
   "outputs": [
    {
     "name": "stdout",
     "output_type": "stream",
     "text": [
      "[ 1.95791366e-03 -2.12760241e-04 -1.11352632e-04 -1.52262303e-04\n",
      " -1.28812061e-04 -3.77098189e-05 -3.88129837e-05 -1.74719074e-05\n",
      " -2.59056866e-05 -4.26574727e-05 -1.07141330e-05]\n"
     ]
    }
   ],
   "source": [
    "d_array = numpy.array(d)\n",
    "e_array = numpy.array(e)\n",
    "f = d_array- e_array\n",
    "print(f)"
   ]
  },
  {
   "cell_type": "code",
   "execution_count": 2,
   "metadata": {},
   "outputs": [],
   "source": [
    "import numpy as np\n",
    "import pandas as pd\n",
    "from pandas import Series,DataFrame\n",
    "import matplotlib.pyplot as plt\n",
    "%matplotlib inline\n",
    "\n",
    "df = pd.read_csv('./paper1_result.csv')"
   ]
  },
  {
   "cell_type": "code",
   "execution_count": 3,
   "metadata": {},
   "outputs": [],
   "source": [
    "s002_penaltyNan_decay0_9 = df[(df['user']=='s002') & (df['decay']==0.9) & (df['index']<=8)]\n",
    "s002_penaltyNan_decay0_7 = df[(df['user']=='s002') & (df['decay']==0.7) ]\n",
    "s002_penaltyNan_decay0_5 = df[(df['user']=='s002') & (df['decay']==0.5) ]\n",
    "s002_penaltyNan_decay0_3 = df[(df['user']=='s002') & (df['decay']==0.3)& (df['index'] >=34) & (df['index']<=42) ]\n",
    "s002_penaltyNan_decay0_1 = df[(df['user']=='s002') & (df['decay']==0.1)& (df['index'] >=43) & (df['index']<=50)]"
   ]
  },
  {
   "cell_type": "code",
   "execution_count": 8,
   "metadata": {},
   "outputs": [
    {
     "data": {
      "image/png": "[encoded data removed]",
      "text/plain": [
       "<Figure size 864x576 with 1 Axes>"
      ]
     },
     "metadata": {
      "needs_background": "light"
     },
     "output_type": "display_data"
    }
   ],
   "source": [
    "plt.figure(figsize=(12,8))\n",
    "\n",
    "s002_penaltyNan_decay0_9_view_low = pd.Series(s002_penaltyNan_decay0_9['3_low_bound'].values, index=s002_penaltyNan_decay0_9['samples'])\n",
    "s002_penaltyNan_decay0_9_view_up = pd.Series(s002_penaltyNan_decay0_9['3_up_bound'].values, index=s002_penaltyNan_decay0_9['samples'])\n",
    "\n",
    "s002_penaltyNan_decay0_7_view_low = pd.Series(s002_penaltyNan_decay0_7['3_low_bound'].values, index=s002_penaltyNan_decay0_7['samples'])\n",
    "s002_penaltyNan_decay0_7_view_up = pd.Series(s002_penaltyNan_decay0_7['3_up_bound'].values, index=s002_penaltyNan_decay0_7['samples'])\n",
    "\n",
    "s002_penaltyNan_decay0_5_view_low = pd.Series(s002_penaltyNan_decay0_5['3_low_bound'].values, index=s002_penaltyNan_decay0_5['samples'])\n",
    "s002_penaltyNan_decay0_5_view_up = pd.Series(s002_penaltyNan_decay0_5['3_up_bound'].values, index=s002_penaltyNan_decay0_5['samples'])\n",
    "\n",
    "s002_penaltyNan_decay0_3_view_low = pd.Series(s002_penaltyNan_decay0_3['3_low_bound'].values, index=s002_penaltyNan_decay0_3['samples'])\n",
    "s002_penaltyNan_decay0_3_view_up = pd.Series(s002_penaltyNan_decay0_3['3_up_bound'].values, index=s002_penaltyNan_decay0_3['samples'])\n",
    "\n",
    "s002_penaltyNan_decay0_1_view_low = pd.Series(s002_penaltyNan_decay0_1['3_low_bound'].values, index=s002_penaltyNan_decay0_1['samples'])\n",
    "s002_penaltyNan_decay0_1_view_up = pd.Series(s002_penaltyNan_decay0_1['3_up_bound'].values, index=s002_penaltyNan_decay0_1['samples'])\n",
    "\n",
    "\n",
    "s002_penaltyNan_decay0_9_view_low.plot(kind='line', grid=True, color = 'pink', label='0.9_low',style='--')\n",
    "s002_penaltyNan_decay0_9_view_up.plot(kind='line', grid=True, color = 'pink', label='0.9_up',style='-')\n",
    "\n",
    "s002_penaltyNan_decay0_7_view_low.plot(kind='line', grid=True, color = 'orange', label='0.7_low',style='--')\n",
    "s002_penaltyNan_decay0_7_view_up.plot(kind='line', grid=True, color = 'orange', label='0.7_up',style='-')\n",
    "\n",
    "s002_penaltyNan_decay0_5_view_low.plot(kind='line', grid=True, color = 'green', label='0.5_low',style='--')\n",
    "s002_penaltyNan_decay0_5_view_up.plot(kind='line', grid=True, color = 'green', label='0.5_up',style='-')\n",
    "\n",
    "s002_penaltyNan_decay0_3_view_low.plot(kind='line', grid=True, color = 'red', label='0.3_low',style='--')\n",
    "s002_penaltyNan_decay0_3_view_up.plot(kind='line', grid=True, color = 'red', label='0.3_up',style='-')\n",
    "\n",
    "s002_penaltyNan_decay0_1_view_low.plot(kind='line', grid=True, color = 'blue', label='0.1_low',style='--')\n",
    "s002_penaltyNan_decay0_1_view_up.plot(kind='line', grid=True, color = 'blue', label='0.1_up',style='-')\n",
    "\n",
    "plt.legend()\n",
    "plt.show()"
   ]
  },
  {
   "cell_type": "code",
   "execution_count": 77,
   "metadata": {},
   "outputs": [],
   "source": [
    "s002_penaltyNan_decay0_3 = df[(df['user']=='s002') & (df['decay']==0.3)& (df['index'] >=34) & (df['index']<=42) ]"
   ]
  },
  {
   "cell_type": "code",
   "execution_count": 78,
   "metadata": {},
   "outputs": [
    {
     "data": {
      "text/html": [
       "<div>\n",
       "<style scoped>\n",
       "    .dataframe tbody tr th:only-of-type {\n",
       "        vertical-align: middle;\n",
       "    }\n",
       "\n",
       "    .dataframe tbody tr th {\n",
       "        vertical-align: top;\n",
       "    }\n",
       "\n",
       "    .dataframe thead th {\n",
       "        text-align: right;\n",
       "    }\n",
       "</style>\n",
       "<table border=\"1\" class=\"dataframe\">\n",
       "  <thead>\n",
       "    <tr style=\"text-align: right;\">\n",
       "      <th></th>\n",
       "      <th>index</th>\n",
       "      <th>user</th>\n",
       "      <th>samples</th>\n",
       "      <th>penalty</th>\n",
       "      <th>decay</th>\n",
       "      <th>espsilon</th>\n",
       "      <th>nu</th>\n",
       "      <th>sigma</th>\n",
       "      <th>3_low_bound</th>\n",
       "      <th>3_up_bound</th>\n",
       "      <th>E</th>\n",
       "      <th>Var</th>\n",
       "      <th>mu_first</th>\n",
       "    </tr>\n",
       "  </thead>\n",
       "  <tbody>\n",
       "    <tr>\n",
       "      <th>34</th>\n",
       "      <td>35</td>\n",
       "      <td>s002</td>\n",
       "      <td>0-50</td>\n",
       "      <td>NaN</td>\n",
       "      <td>0.3</td>\n",
       "      <td>-3</td>\n",
       "      <td>-0.963766</td>\n",
       "      <td>0.016473</td>\n",
       "      <td>0.363061</td>\n",
       "      <td>0.400778</td>\n",
       "      <td>0.381505</td>\n",
       "      <td>0.053558</td>\n",
       "      <td>0.936761</td>\n",
       "    </tr>\n",
       "    <tr>\n",
       "      <th>35</th>\n",
       "      <td>36</td>\n",
       "      <td>s002</td>\n",
       "      <td>50-100</td>\n",
       "      <td>NaN</td>\n",
       "      <td>0.3</td>\n",
       "      <td>-3</td>\n",
       "      <td>-1.000850</td>\n",
       "      <td>0.030267</td>\n",
       "      <td>0.335662</td>\n",
       "      <td>0.402505</td>\n",
       "      <td>0.367735</td>\n",
       "      <td>0.049794</td>\n",
       "      <td>1.094253</td>\n",
       "    </tr>\n",
       "    <tr>\n",
       "      <th>36</th>\n",
       "      <td>37</td>\n",
       "      <td>s002</td>\n",
       "      <td>100-150</td>\n",
       "      <td>NaN</td>\n",
       "      <td>0.3</td>\n",
       "      <td>-3</td>\n",
       "      <td>-0.987406</td>\n",
       "      <td>0.022964</td>\n",
       "      <td>0.347741</td>\n",
       "      <td>0.399112</td>\n",
       "      <td>0.372640</td>\n",
       "      <td>0.051111</td>\n",
       "      <td>1.171689</td>\n",
       "    </tr>\n",
       "    <tr>\n",
       "      <th>37</th>\n",
       "      <td>38</td>\n",
       "      <td>s002</td>\n",
       "      <td>150-200</td>\n",
       "      <td>NaN</td>\n",
       "      <td>0.3</td>\n",
       "      <td>-3</td>\n",
       "      <td>-0.953915</td>\n",
       "      <td>0.023507</td>\n",
       "      <td>0.358999</td>\n",
       "      <td>0.413377</td>\n",
       "      <td>0.385337</td>\n",
       "      <td>0.054654</td>\n",
       "      <td>1.267757</td>\n",
       "    </tr>\n",
       "    <tr>\n",
       "      <th>38</th>\n",
       "      <td>39</td>\n",
       "      <td>s002</td>\n",
       "      <td>200-250</td>\n",
       "      <td>NaN</td>\n",
       "      <td>0.3</td>\n",
       "      <td>-3</td>\n",
       "      <td>-1.029631</td>\n",
       "      <td>0.081150</td>\n",
       "      <td>0.279968</td>\n",
       "      <td>0.455582</td>\n",
       "      <td>0.358317</td>\n",
       "      <td>0.047544</td>\n",
       "      <td>1.296700</td>\n",
       "    </tr>\n",
       "    <tr>\n",
       "      <th>39</th>\n",
       "      <td>40</td>\n",
       "      <td>s002</td>\n",
       "      <td>250-300</td>\n",
       "      <td>NaN</td>\n",
       "      <td>0.3</td>\n",
       "      <td>-3</td>\n",
       "      <td>-1.028556</td>\n",
       "      <td>0.042469</td>\n",
       "      <td>0.314755</td>\n",
       "      <td>0.406102</td>\n",
       "      <td>0.357845</td>\n",
       "      <td>0.047193</td>\n",
       "      <td>1.389870</td>\n",
       "    </tr>\n",
       "    <tr>\n",
       "      <th>40</th>\n",
       "      <td>41</td>\n",
       "      <td>s002</td>\n",
       "      <td>300-350</td>\n",
       "      <td>NaN</td>\n",
       "      <td>0.3</td>\n",
       "      <td>-3</td>\n",
       "      <td>-0.953708</td>\n",
       "      <td>0.034236</td>\n",
       "      <td>0.347700</td>\n",
       "      <td>0.426987</td>\n",
       "      <td>0.385535</td>\n",
       "      <td>0.054745</td>\n",
       "      <td>1.281863</td>\n",
       "    </tr>\n",
       "    <tr>\n",
       "      <th>41</th>\n",
       "      <td>42</td>\n",
       "      <td>s002</td>\n",
       "      <td>350-400</td>\n",
       "      <td>NaN</td>\n",
       "      <td>0.3</td>\n",
       "      <td>-3</td>\n",
       "      <td>-0.859106</td>\n",
       "      <td>0.015270</td>\n",
       "      <td>0.404576</td>\n",
       "      <td>0.443395</td>\n",
       "      <td>0.423590</td>\n",
       "      <td>0.066023</td>\n",
       "      <td>1.129295</td>\n",
       "    </tr>\n",
       "  </tbody>\n",
       "</table>\n",
       "</div>"
      ],
      "text/plain": [
       "    index  user  samples  penalty  decay  espsilon        nu     sigma  \\\n",
       "34     35  s002     0-50      NaN    0.3        -3 -0.963766  0.016473   \n",
       "35     36  s002   50-100      NaN    0.3        -3 -1.000850  0.030267   \n",
       "36     37  s002  100-150      NaN    0.3        -3 -0.987406  0.022964   \n",
       "37     38  s002  150-200      NaN    0.3        -3 -0.953915  0.023507   \n",
       "38     39  s002  200-250      NaN    0.3        -3 -1.029631  0.081150   \n",
       "39     40  s002  250-300      NaN    0.3        -3 -1.028556  0.042469   \n",
       "40     41  s002  300-350      NaN    0.3        -3 -0.953708  0.034236   \n",
       "41     42  s002  350-400      NaN    0.3        -3 -0.859106  0.015270   \n",
       "\n",
       "    3_low_bound  3_up_bound         E       Var  mu_first  \n",
       "34     0.363061    0.400778  0.381505  0.053558  0.936761  \n",
       "35     0.335662    0.402505  0.367735  0.049794  1.094253  \n",
       "36     0.347741    0.399112  0.372640  0.051111  1.171689  \n",
       "37     0.358999    0.413377  0.385337  0.054654  1.267757  \n",
       "38     0.279968    0.455582  0.358317  0.047544  1.296700  \n",
       "39     0.314755    0.406102  0.357845  0.047193  1.389870  \n",
       "40     0.347700    0.426987  0.385535  0.054745  1.281863  \n",
       "41     0.404576    0.443395  0.423590  0.066023  1.129295  "
      ]
     },
     "execution_count": 78,
     "metadata": {},
     "output_type": "execute_result"
    }
   ],
   "source": [
    "s002_penaltyNan_decay0_3"
   ]
  },
  {
   "cell_type": "code",
   "execution_count": 83,
   "metadata": {},
   "outputs": [],
   "source": [
    "s002_penaltyNan_decay0_1 = df[(df['user']=='s002') & (df['decay']==0.1)& (df['index'] >=43) & (df['index']<=50)]"
   ]
  },
  {
   "cell_type": "code",
   "execution_count": 84,
   "metadata": {},
   "outputs": [
    {
     "data": {
      "text/html": [
       "<div>\n",
       "<style scoped>\n",
       "    .dataframe tbody tr th:only-of-type {\n",
       "        vertical-align: middle;\n",
       "    }\n",
       "\n",
       "    .dataframe tbody tr th {\n",
       "        vertical-align: top;\n",
       "    }\n",
       "\n",
       "    .dataframe thead th {\n",
       "        text-align: right;\n",
       "    }\n",
       "</style>\n",
       "<table border=\"1\" class=\"dataframe\">\n",
       "  <thead>\n",
       "    <tr style=\"text-align: right;\">\n",
       "      <th></th>\n",
       "      <th>index</th>\n",
       "      <th>user</th>\n",
       "      <th>samples</th>\n",
       "      <th>penalty</th>\n",
       "      <th>decay</th>\n",
       "      <th>espsilon</th>\n",
       "      <th>nu</th>\n",
       "      <th>sigma</th>\n",
       "      <th>3_low_bound</th>\n",
       "      <th>3_up_bound</th>\n",
       "      <th>E</th>\n",
       "      <th>Var</th>\n",
       "      <th>mu_first</th>\n",
       "    </tr>\n",
       "  </thead>\n",
       "  <tbody>\n",
       "    <tr>\n",
       "      <th>42</th>\n",
       "      <td>43</td>\n",
       "      <td>s002</td>\n",
       "      <td>0-50</td>\n",
       "      <td>NaN</td>\n",
       "      <td>0.1</td>\n",
       "      <td>-1</td>\n",
       "      <td>-0.864372</td>\n",
       "      <td>0.018455</td>\n",
       "      <td>0.398624</td>\n",
       "      <td>0.445301</td>\n",
       "      <td>0.421388</td>\n",
       "      <td>0.065346</td>\n",
       "      <td>0.934784</td>\n",
       "    </tr>\n",
       "    <tr>\n",
       "      <th>43</th>\n",
       "      <td>44</td>\n",
       "      <td>s002</td>\n",
       "      <td>50-100</td>\n",
       "      <td>NaN</td>\n",
       "      <td>0.1</td>\n",
       "      <td>-1</td>\n",
       "      <td>-0.933462</td>\n",
       "      <td>0.033029</td>\n",
       "      <td>0.356098</td>\n",
       "      <td>0.434146</td>\n",
       "      <td>0.393405</td>\n",
       "      <td>0.056998</td>\n",
       "      <td>1.094308</td>\n",
       "    </tr>\n",
       "    <tr>\n",
       "      <th>44</th>\n",
       "      <td>45</td>\n",
       "      <td>s002</td>\n",
       "      <td>100-150</td>\n",
       "      <td>NaN</td>\n",
       "      <td>0.1</td>\n",
       "      <td>-1</td>\n",
       "      <td>-0.930947</td>\n",
       "      <td>0.023744</td>\n",
       "      <td>0.367079</td>\n",
       "      <td>0.423282</td>\n",
       "      <td>0.394291</td>\n",
       "      <td>0.057225</td>\n",
       "      <td>1.162280</td>\n",
       "    </tr>\n",
       "    <tr>\n",
       "      <th>45</th>\n",
       "      <td>46</td>\n",
       "      <td>s002</td>\n",
       "      <td>150-200</td>\n",
       "      <td>NaN</td>\n",
       "      <td>0.1</td>\n",
       "      <td>-1</td>\n",
       "      <td>-0.895457</td>\n",
       "      <td>0.023085</td>\n",
       "      <td>0.381094</td>\n",
       "      <td>0.437708</td>\n",
       "      <td>0.408530</td>\n",
       "      <td>0.061431</td>\n",
       "      <td>1.266961</td>\n",
       "    </tr>\n",
       "    <tr>\n",
       "      <th>46</th>\n",
       "      <td>47</td>\n",
       "      <td>s002</td>\n",
       "      <td>200-250</td>\n",
       "      <td>NaN</td>\n",
       "      <td>0.1</td>\n",
       "      <td>-1</td>\n",
       "      <td>-0.975722</td>\n",
       "      <td>0.079848</td>\n",
       "      <td>0.296631</td>\n",
       "      <td>0.478942</td>\n",
       "      <td>0.378124</td>\n",
       "      <td>0.052935</td>\n",
       "      <td>1.308220</td>\n",
       "    </tr>\n",
       "    <tr>\n",
       "      <th>47</th>\n",
       "      <td>48</td>\n",
       "      <td>s002</td>\n",
       "      <td>250-300</td>\n",
       "      <td>NaN</td>\n",
       "      <td>0.1</td>\n",
       "      <td>-1</td>\n",
       "      <td>-0.984423</td>\n",
       "      <td>0.041940</td>\n",
       "      <td>0.329479</td>\n",
       "      <td>0.423754</td>\n",
       "      <td>0.373984</td>\n",
       "      <td>0.051544</td>\n",
       "      <td>1.398691</td>\n",
       "    </tr>\n",
       "    <tr>\n",
       "      <th>48</th>\n",
       "      <td>49</td>\n",
       "      <td>s002</td>\n",
       "      <td>300-350</td>\n",
       "      <td>NaN</td>\n",
       "      <td>0.1</td>\n",
       "      <td>-1</td>\n",
       "      <td>-0.904282</td>\n",
       "      <td>0.034251</td>\n",
       "      <td>0.365301</td>\n",
       "      <td>0.448642</td>\n",
       "      <td>0.405070</td>\n",
       "      <td>0.060433</td>\n",
       "      <td>1.281543</td>\n",
       "    </tr>\n",
       "    <tr>\n",
       "      <th>49</th>\n",
       "      <td>50</td>\n",
       "      <td>s002</td>\n",
       "      <td>350-400</td>\n",
       "      <td>NaN</td>\n",
       "      <td>0.1</td>\n",
       "      <td>-1</td>\n",
       "      <td>-0.794032</td>\n",
       "      <td>0.016417</td>\n",
       "      <td>0.430296</td>\n",
       "      <td>0.474838</td>\n",
       "      <td>0.452079</td>\n",
       "      <td>0.075206</td>\n",
       "      <td>1.126591</td>\n",
       "    </tr>\n",
       "  </tbody>\n",
       "</table>\n",
       "</div>"
      ],
      "text/plain": [
       "    index  user  samples  penalty  decay  espsilon        nu     sigma  \\\n",
       "42     43  s002     0-50      NaN    0.1        -1 -0.864372  0.018455   \n",
       "43     44  s002   50-100      NaN    0.1        -1 -0.933462  0.033029   \n",
       "44     45  s002  100-150      NaN    0.1        -1 -0.930947  0.023744   \n",
       "45     46  s002  150-200      NaN    0.1        -1 -0.895457  0.023085   \n",
       "46     47  s002  200-250      NaN    0.1        -1 -0.975722  0.079848   \n",
       "47     48  s002  250-300      NaN    0.1        -1 -0.984423  0.041940   \n",
       "48     49  s002  300-350      NaN    0.1        -1 -0.904282  0.034251   \n",
       "49     50  s002  350-400      NaN    0.1        -1 -0.794032  0.016417   \n",
       "\n",
       "    3_low_bound  3_up_bound         E       Var  mu_first  \n",
       "42     0.398624    0.445301  0.421388  0.065346  0.934784  \n",
       "43     0.356098    0.434146  0.393405  0.056998  1.094308  \n",
       "44     0.367079    0.423282  0.394291  0.057225  1.162280  \n",
       "45     0.381094    0.437708  0.408530  0.061431  1.266961  \n",
       "46     0.296631    0.478942  0.378124  0.052935  1.308220  \n",
       "47     0.329479    0.423754  0.373984  0.051544  1.398691  \n",
       "48     0.365301    0.448642  0.405070  0.060433  1.281543  \n",
       "49     0.430296    0.474838  0.452079  0.075206  1.126591  "
      ]
     },
     "execution_count": 84,
     "metadata": {},
     "output_type": "execute_result"
    }
   ],
   "source": [
    "s002_penaltyNan_decay0_1"
   ]
  },
  {
   "cell_type": "code",
   "execution_count": null,
   "metadata": {},
   "outputs": [],
   "source": []
  }
 ],
 "metadata": {
  "kernelspec": {
   "display_name": "Python 3",
   "language": "python",
   "name": "python3"
  },
  "language_info": {
   "codemirror_mode": {
    "name": "ipython",
    "version": 3
   },
   "file_extension": ".py",
   "mimetype": "text/x-python",
   "name": "python",
   "nbconvert_exporter": "python",
   "pygments_lexer": "ipython3",
   "version": "3.6.5"
  }
 },
 "nbformat": 4,
 "nbformat_minor": 2
}
