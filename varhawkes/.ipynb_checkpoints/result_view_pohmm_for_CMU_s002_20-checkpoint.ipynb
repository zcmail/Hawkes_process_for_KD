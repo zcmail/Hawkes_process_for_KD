{
 "cells": [
  {
   "cell_type": "code",
   "execution_count": 92,
   "metadata": {},
   "outputs": [],
   "source": [
    "FN_compare = [783, 733, 664, 619, 570, 519, 458, 393, 321, 255, 206, 153, 108, 74, 52, 28, 15, 10, 8, 8, 6, 6, 6, 6, 5, 4, 4, 4, 4, 4, 4, 4, 3, 3, 2, 1, 1, 1, 1, 0, 0, 0, 0, 0, 0, 0, 0, 0, 0, 0]"
   ]
  },
  {
   "cell_type": "code",
   "execution_count": 24,
   "metadata": {},
   "outputs": [
    {
     "data": {
      "image/png": "[encoded data removed]",
      "text/plain": [
       "<Figure size 432x288 with 1 Axes>"
      ]
     },
     "metadata": {
      "needs_background": "light"
     },
     "output_type": "display_data"
    }
   ],
   "source": [
    "import pandas as pd\n",
    "import numpy as np\n",
    "from pandas import Series,DataFrame\n",
    "import matplotlib.pyplot as plt\n",
    "%matplotlib inline\n",
    "\n",
    "path = './result/pohmm_result/20_train/'\n",
    "file = 's002_20train_verification_results_out.csv'\n",
    "fileName = path + file\n",
    "\n",
    "df = pd.read_csv(fileName)\n",
    "\n",
    "#正样本\n",
    "df_positive = df[df[\"genuine\"]==True]\n",
    "df_sort_positive = df_positive.sort_values(by=['score'])\n",
    "df_95percent_positive = df_sort_positive[19:380]\n",
    "mean = df_95percent_positive[\"score\"].mean()\n",
    "df_score_positive = df_sort_positive[\"score\"]\n",
    "\n",
    "distance_positive = list( map(lambda x: abs(x - mean), df_score_positive) )\n",
    "distance_array_positive = np.array(distance_positive)\n",
    "\n",
    "#负样本\n",
    "df_negative = df[df[\"genuine\"]==False]\n",
    "df_sort_negative = df_negative.sort_values(by=['score'])\n",
    "df_score_negative = df_sort_negative[\"score\"]\n",
    "\n",
    "distance_negative = list( map(lambda x: abs(x - mean), df_score_negative) )\n",
    "distance_array_negative = np.array(distance_negative)\n",
    "\n",
    "#判断函数\n",
    "def judge(threshold,distance_array):\n",
    "    out_num = np.sum((distance_array > threshold)) \n",
    "    return out_num\n",
    "\n",
    "threshold_range = np.linspace(1,150,500)\n",
    "\n",
    "FN = [0]*len(threshold_range)\n",
    "TP = [0]*len(threshold_range)\n",
    "FP = [0]*len(threshold_range)\n",
    "TN = [0]*len(threshold_range)\n",
    "\n",
    "false_alarm_rate = [0.0]*len(threshold_range)\n",
    "miss_rate = [0.0]*len(threshold_range)\n",
    "recall = [0.0]*len(threshold_range)\n",
    "precision = [0.0]*len(threshold_range)\n",
    "\n",
    "for i,threshold in enumerate(threshold_range):\n",
    "    #print('threshold is:',threshold)\n",
    "    \n",
    "    out_num = judge(threshold,distance_positive)\n",
    "    #print('out_num is:',out_num)\n",
    "    out_num_all = judge(threshold,distance_array_negative)\n",
    "    #print('out_num_all is:', out_num_all)\n",
    "     \n",
    "    FN[i] = out_num\n",
    "    TP[i] = 400 - out_num\n",
    "    FP[i] = 2500 -  out_num_all\n",
    "    TN[i] = out_num_all\n",
    "\n",
    "    false_alarm_rate[i] = FP[i]/(FP[i]+TN[i])\n",
    "    miss_rate[i] = FN[i]/(TP[i]+FN[i])\n",
    "    recall[i] = TP[i]/(TP[i]+FN[i])\n",
    "    precision[i] = TP[i]/(TP[i]+FP[i])\n",
    "    \n",
    "#根据Kevin的定义：\n",
    "False_Alarm_Rate = list( map(lambda x: x/400, FN) )\n",
    "Miss_Rate = list( map(lambda x: x/2500, FP) )\n",
    "Hit_Rate = list( map(lambda x: 1 - x, Miss_Rate) )\n",
    "plt.plot(False_Alarm_Rate,Hit_Rate,color=\"blue\",linewidth=1)\n",
    "plt.plot(False_Alarm_Rate,False_Alarm_Rate,'g--',linewidth=1)\n",
    "\n",
    "plt.title('s002(20 training samples)')\n",
    "plt.xlabel('False Alarm Rate')\n",
    "plt.ylabel('Hit Rate')\n",
    "plt.xlim([0,1])\n",
    "plt.ylim([0,1])\n",
    "plt.show()"
   ]
  },
  {
   "cell_type": "code",
   "execution_count": 25,
   "metadata": {},
   "outputs": [
    {
     "name": "stdout",
     "output_type": "stream",
     "text": [
      "FN =  [385, 325, 267, 203, 150, 107, 75, 47, 23, 8, 3, 1, 0, 0, 0, 0, 0, 0, 0, 0, 0, 0, 0, 0, 0, 0, 0, 0, 0, 0, 0, 0, 0, 0, 0, 0, 0, 0, 0, 0, 0, 0, 0, 0, 0, 0, 0, 0, 0, 0]\n",
      "TP =  [15, 75, 133, 197, 250, 293, 325, 353, 377, 392, 397, 399, 400, 400, 400, 400, 400, 400, 400, 400, 400, 400, 400, 400, 400, 400, 400, 400, 400, 400, 400, 400, 400, 400, 400, 400, 400, 400, 400, 400, 400, 400, 400, 400, 400, 400, 400, 400, 400, 400]\n",
      "FP =  [58, 268, 487, 694, 917, 1101, 1278, 1448, 1598, 1731, 1864, 1967, 2066, 2141, 2207, 2272, 2324, 2369, 2393, 2419, 2435, 2442, 2448, 2450, 2450, 2451, 2454, 2459, 2468, 2480, 2487, 2490, 2497, 2500, 2500, 2500, 2500, 2500, 2500, 2500, 2500, 2500, 2500, 2500, 2500, 2500, 2500, 2500, 2500, 2500]\n",
      "TN =  [2442, 2232, 2013, 1806, 1583, 1399, 1222, 1052, 902, 769, 636, 533, 434, 359, 293, 228, 176, 131, 107, 81, 65, 58, 52, 50, 50, 49, 46, 41, 32, 20, 13, 10, 3, 0, 0, 0, 0, 0, 0, 0, 0, 0, 0, 0, 0, 0, 0, 0, 0, 0]\n"
     ]
    }
   ],
   "source": [
    "print('FN = ', FN)\n",
    "print('TP = ', TP)\n",
    "print('FP = ', FP)\n",
    "print('TN = ', TN)\n",
    "\n",
    "#print('FN = ', FN)"
   ]
  },
  {
   "cell_type": "code",
   "execution_count": 10,
   "metadata": {},
   "outputs": [],
   "source": [
    "five_Percent_index = FN.index(18)"
   ]
  },
  {
   "cell_type": "code",
   "execution_count": 11,
   "metadata": {},
   "outputs": [
    {
     "data": {
      "text/plain": [
       "0.6516"
      ]
     },
     "execution_count": 11,
     "metadata": {},
     "output_type": "execute_result"
    }
   ],
   "source": [
    "FP[five_Percent_index]/2500"
   ]
  },
  {
   "cell_type": "code",
   "execution_count": 12,
   "metadata": {},
   "outputs": [],
   "source": [
    "F1=[0.0]*len(TP)\n",
    "for i in range(len(TP)):\n",
    "    F1[i] = 2*TP[i]/(2*TP[i]+FP[i]+FN[i])"
   ]
  },
  {
   "cell_type": "code",
   "execution_count": 13,
   "metadata": {},
   "outputs": [
    {
     "data": {
      "text/plain": [
       "0.31688096225632517"
      ]
     },
     "execution_count": 13,
     "metadata": {},
     "output_type": "execute_result"
    }
   ],
   "source": [
    "F1[five_Percent_index]"
   ]
  },
  {
   "cell_type": "code",
   "execution_count": 14,
   "metadata": {},
   "outputs": [
    {
     "data": {
      "image/png": "[encoded data removed]",
      "text/plain": [
       "<Figure size 432x288 with 1 Axes>"
      ]
     },
     "metadata": {
      "needs_background": "light"
     },
     "output_type": "display_data"
    }
   ],
   "source": [
    "plt.figure()\n",
    "plt.plot(false_alarm_rate,marker = '*', label = 'far')\n",
    "plt.plot(miss_rate, marker = 'o', label = 'fpr')\n",
    "plt.legend()\n",
    "plt.xlim([0,150])\n",
    "plt.ylim([0,1])\n",
    "plt.xlabel('threshould')\n",
    "plt.ylabel('far/fpr')\n",
    "plt.show()"
   ]
  },
  {
   "cell_type": "code",
   "execution_count": 22,
   "metadata": {},
   "outputs": [
    {
     "data": {
      "text/plain": [
       "0.3625"
      ]
     },
     "execution_count": 22,
     "metadata": {},
     "output_type": "execute_result"
    }
   ],
   "source": [
    "miss_rate[42]"
   ]
  },
  {
   "cell_type": "code",
   "execution_count": 23,
   "metadata": {},
   "outputs": [
    {
     "data": {
      "text/plain": [
       "0.3772"
      ]
     },
     "execution_count": 23,
     "metadata": {},
     "output_type": "execute_result"
    }
   ],
   "source": [
    "false_alarm_rate[42]"
   ]
  },
  {
   "cell_type": "code",
   "execution_count": null,
   "metadata": {},
   "outputs": [],
   "source": []
  }
 ],
 "metadata": {
  "kernelspec": {
   "display_name": "Python 3",
   "language": "python",
   "name": "python3"
  },
  "language_info": {
   "codemirror_mode": {
    "name": "ipython",
    "version": 3
   },
   "file_extension": ".py",
   "mimetype": "text/x-python",
   "name": "python",
   "nbconvert_exporter": "python",
   "pygments_lexer": "ipython3",
   "version": "3.6.5"
  }
 },
 "nbformat": 4,
 "nbformat_minor": 2
}
