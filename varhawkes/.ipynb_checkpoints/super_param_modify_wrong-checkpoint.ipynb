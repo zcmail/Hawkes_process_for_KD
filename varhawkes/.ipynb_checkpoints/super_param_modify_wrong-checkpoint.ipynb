{
 "cells": [
  {
   "cell_type": "code",
   "execution_count": 10,
   "metadata": {
    "scrolled": true
   },
   "outputs": [
    {
     "name": "stdout",
     "output_type": "stream",
     "text": [
      "Number of jumps: 22\n",
      "per node: [2, 2, 2, 2, 2, 2, 2, 2, 2, 2, 2]\n",
      "\n",
      "estimating\n",
      "=========\n"
     ]
    },
    {
     "ename": "TypeError",
     "evalue": "sub(): argument 'other' (position 1) must be Tensor, not Symbol",
     "output_type": "error",
     "traceback": [
      "\u001b[1;31m---------------------------------------------------------------------------\u001b[0m",
      "\u001b[1;31mTypeError\u001b[0m                                 Traceback (most recent call last)",
      "\u001b[1;32m<ipython-input-10-7449e31d3878>\u001b[0m in \u001b[0;36m<module>\u001b[1;34m\u001b[0m\n\u001b[0;32m    133\u001b[0m                         help=\"Input parameter file (JSON)\")\n\u001b[0;32m    134\u001b[0m     \u001b[0margs\u001b[0m \u001b[1;33m=\u001b[0m \u001b[0mparser\u001b[0m\u001b[1;33m.\u001b[0m\u001b[0mparse_known_args\u001b[0m\u001b[1;33m(\u001b[0m\u001b[1;33m)\u001b[0m\u001b[1;33m[\u001b[0m\u001b[1;36m0\u001b[0m\u001b[1;33m]\u001b[0m\u001b[1;33m\u001b[0m\u001b[0m\n\u001b[1;32m--> 135\u001b[1;33m     \u001b[0mestimate\u001b[0m \u001b[1;33m(\u001b[0m\u001b[1;34m'.'\u001b[0m\u001b[1;33m,\u001b[0m\u001b[1;34m'output_varhawkes_train_samples_s002_350-400+mu+c1+1e-04.json'\u001b[0m\u001b[1;33m)\u001b[0m\u001b[1;33m\u001b[0m\u001b[0m\n\u001b[0m",
      "\u001b[1;32m<ipython-input-10-7449e31d3878>\u001b[0m in \u001b[0;36mestimate\u001b[1;34m(exp_dir, param_filename, stdout, stderr)\u001b[0m\n\u001b[0;32m    108\u001b[0m \u001b[1;33m\u001b[0m\u001b[0m\n\u001b[0;32m    109\u001b[0m     \u001b[0mhawkes_model_obj\u001b[0m\u001b[1;33m.\u001b[0m\u001b[0mset_data\u001b[0m\u001b[1;33m(\u001b[0m\u001b[0mevents_g\u001b[0m\u001b[1;33m[\u001b[0m\u001b[1;36m0\u001b[0m\u001b[1;33m]\u001b[0m\u001b[1;33m)\u001b[0m\u001b[1;33m\u001b[0m\u001b[0m\n\u001b[1;32m--> 110\u001b[1;33m     \u001b[0mloglik\u001b[0m\u001b[1;33m,\u001b[0m\u001b[0mend_time\u001b[0m \u001b[1;33m=\u001b[0m \u001b[0mhawkes_model_obj\u001b[0m\u001b[1;33m.\u001b[0m\u001b[0mlog_likelihood\u001b[0m\u001b[1;33m(\u001b[0m\u001b[0mmu\u001b[0m\u001b[1;33m,\u001b[0m\u001b[0mW\u001b[0m\u001b[1;33m,\u001b[0m\u001b[0mepsilon_noise0\u001b[0m\u001b[1;33m)\u001b[0m\u001b[1;33m\u001b[0m\u001b[0m\n\u001b[0m\u001b[0;32m    111\u001b[0m     \u001b[0mloglik_all\u001b[0m\u001b[1;33m.\u001b[0m\u001b[0mappend\u001b[0m\u001b[1;33m(\u001b[0m\u001b[0mloglik\u001b[0m \u001b[1;33m+\u001b[0m \u001b[0mdim\u001b[0m\u001b[1;33m*\u001b[0m\u001b[0mend_time\u001b[0m\u001b[1;33m*\u001b[0m\u001b[0mepsilon_noise0\u001b[0m\u001b[1;33m)\u001b[0m\u001b[1;33m\u001b[0m\u001b[0m\n\u001b[0;32m    112\u001b[0m     \u001b[0mhawkes_model_obj\u001b[0m\u001b[1;33m.\u001b[0m\u001b[0mset_data\u001b[0m\u001b[1;33m(\u001b[0m\u001b[0mevents_g\u001b[0m\u001b[1;33m[\u001b[0m\u001b[1;36m1\u001b[0m\u001b[1;33m]\u001b[0m\u001b[1;33m)\u001b[0m\u001b[1;33m\u001b[0m\u001b[0m\n",
      "\u001b[1;32mE:\\project\\time_series\\var-hawkes-master-new-modify\\varhawkes\\hawkes_model_single.py\u001b[0m in \u001b[0;36mlog_likelihood\u001b[1;34m(self, mu, W, epsilon_noise)\u001b[0m\n\u001b[0;32m    101\u001b[0m             \u001b[1;31m#print('/n')\u001b[0m\u001b[1;33m\u001b[0m\u001b[1;33m\u001b[0m\u001b[0m\n\u001b[0;32m    102\u001b[0m             \u001b[1;31m#intens = torch.log(mu[i] + (W[i].unsqueeze(2) * self._cache[i]).sum(0).sum(0))\u001b[0m\u001b[1;33m\u001b[0m\u001b[1;33m\u001b[0m\u001b[0m\n\u001b[1;32m--> 103\u001b[1;33m             \u001b[0mintens\u001b[0m \u001b[1;33m=\u001b[0m \u001b[0mtorch\u001b[0m\u001b[1;33m.\u001b[0m\u001b[0mlog\u001b[0m\u001b[1;33m(\u001b[0m\u001b[0mmu\u001b[0m\u001b[1;33m[\u001b[0m\u001b[0mi\u001b[0m\u001b[1;33m]\u001b[0m \u001b[1;33m+\u001b[0m \u001b[1;33m(\u001b[0m\u001b[0mW\u001b[0m\u001b[1;33m[\u001b[0m\u001b[0mi\u001b[0m\u001b[1;33m]\u001b[0m\u001b[1;33m.\u001b[0m\u001b[0munsqueeze\u001b[0m\u001b[1;33m(\u001b[0m\u001b[1;36m2\u001b[0m\u001b[1;33m)\u001b[0m \u001b[1;33m*\u001b[0m \u001b[0mself\u001b[0m\u001b[1;33m.\u001b[0m\u001b[0m_cache\u001b[0m\u001b[1;33m[\u001b[0m\u001b[0mi\u001b[0m\u001b[1;33m]\u001b[0m\u001b[1;33m)\u001b[0m\u001b[1;33m.\u001b[0m\u001b[0msum\u001b[0m\u001b[1;33m(\u001b[0m\u001b[1;36m0\u001b[0m\u001b[1;33m)\u001b[0m\u001b[1;33m.\u001b[0m\u001b[0msum\u001b[0m\u001b[1;33m(\u001b[0m\u001b[1;36m0\u001b[0m\u001b[1;33m)\u001b[0m \u001b[1;33m-\u001b[0m \u001b[0mepsilon_noise\u001b[0m\u001b[1;33m)\u001b[0m\u001b[1;33m\u001b[0m\u001b[0m\n\u001b[0m\u001b[0;32m    104\u001b[0m             \u001b[0mlog_like\u001b[0m \u001b[1;33m+=\u001b[0m \u001b[0mintens\u001b[0m\u001b[1;33m.\u001b[0m\u001b[0msum\u001b[0m\u001b[1;33m(\u001b[0m\u001b[1;33m)\u001b[0m\u001b[1;33m\u001b[0m\u001b[0m\n\u001b[0;32m    105\u001b[0m             \u001b[1;31m#print('log_like is:',log_like)\u001b[0m\u001b[1;33m\u001b[0m\u001b[1;33m\u001b[0m\u001b[0m\n",
      "\u001b[1;31mTypeError\u001b[0m: sub(): argument 'other' (position 1) must be Tensor, not Symbol"
     ]
    }
   ],
   "source": [
    "import numpy as np\n",
    "import argparse\n",
    "import json\n",
    "import sys\n",
    "import os\n",
    "import torch\n",
    "#from scipy.optimize import root,fsolve\n",
    "import sympy as sp\n",
    "\n",
    "# Internal libraries\n",
    "import excitation_kernels\n",
    "import hawkes_model_single\n",
    "\n",
    "\n",
    "from make_data_for_samples import make_data              #多个样本数据\n",
    "from make_data_for_estimate import make_estimate_data    #单个样本数据\n",
    "\n",
    "'''events_num = 0\n",
    "dim = 0\n",
    "n_params = 0 \n",
    "M = 1\n",
    "'''\n",
    "param_dict_exitation = {'exitation':{'name': 'ExponentialKernel', 'args': {'decay':5, 'cut_off': 1500.0}}}\n",
    "\n",
    "def make_object(module, name, args):\n",
    "    return getattr(module, name)(**args)\n",
    "\n",
    "\n",
    "'''\n",
    "def fun(epsilon_noise):\n",
    "    \n",
    "    global param_dict_exitation\n",
    "    global events_num\n",
    "    global W\n",
    "    global mu\n",
    "    global dim\n",
    "    global events_g\n",
    "\n",
    "    # Init Hawkes process model object\n",
    "    excitation_obj = make_object(excitation_kernels, **param_dict_exitation['exitation'])\n",
    "    hawkes_model_obj = hawkes_model_single.HawkesModel(excitation=excitation_obj, verbose=False)\n",
    "\n",
    "    loglik_all=[0.0]*events_num\n",
    "    \n",
    "    W = W.view(dim,dim,M)\n",
    "\n",
    "    for i in range(events_num):\n",
    "        hawkes_model_obj.set_data(events_g[i])\n",
    "        loglik,end_time = hawkes_model_obj.log_likelihood(mu,W,epsilon_noise[i])\n",
    "        print(epsilon_noise[i])\n",
    "        print('loglik is:',loglik)\n",
    "        loglik_all[i] = loglik + dim*end_time*epsilon_noise[i]\n",
    "    return np.array(loglik_all)\n",
    "'''\n",
    "\n",
    "def estimate(exp_dir, param_filename, stdout=None, stderr=None):\n",
    "    if stdout is not None:\n",
    "        sys.stdout = open(stdout, 'w')\n",
    "    if stderr is not None:\n",
    "        sys.stderr = open(stderr, 'w')\n",
    "   \n",
    "    data_fileName = \"./data/DSL-StrongPasswordData.xls\"\n",
    "    events = make_data('s002',350,351,data_fileName)\n",
    "    n_jumps_per_dim = list(map(len, events[0]))\n",
    "    n_nodes = len(events[0])\n",
    "    print('Number of jumps:', len(events)*sum(n_jumps_per_dim))\n",
    "    print('per node:', n_jumps_per_dim)\n",
    "    \n",
    "    global events_g    \n",
    "    events_g = torch.tensor(events, dtype=torch.float32)\n",
    "    \n",
    "    param_filename = os.path.join(exp_dir, param_filename)\n",
    "    if not os.path.exists(param_filename):\n",
    "        raise FileNotFoundError(\n",
    "            'Input file `{:s}` not found.'.format(param_filename))\n",
    "    with open(param_filename, 'r') as param_file:\n",
    "        param_dict = json.load(param_file)\n",
    "        \n",
    "    global param_dict_exitation\n",
    "    global events_num\n",
    "    global W\n",
    "    global mu\n",
    "    global dim\n",
    "\n",
    "    events_num = len(events)\n",
    "    dim = len(events[0])\n",
    "    global M\n",
    "    M = 1\n",
    "    global n_params\n",
    "    n_params = dim * (M * dim + 1)\n",
    "    global mu\n",
    "    mu = torch.tensor(param_dict['vi_exp']['mu'],dtype=torch.float32)\n",
    "    global W\n",
    "    W = torch.tensor(param_dict['vi_exp']['adjacency'],dtype=torch.float32)\n",
    "    \n",
    "    print('\\nestimating')\n",
    "    print('=========')\n",
    "\n",
    "    loglik_all=[]\n",
    "    \n",
    "    W = W.view(dim,dim,M)\n",
    "\n",
    "    excitation_obj = make_object(excitation_kernels, **param_dict_exitation['exitation'])\n",
    "    hawkes_model_obj = hawkes_model_single.HawkesModel(excitation=excitation_obj, verbose=False)\n",
    "    \n",
    "    epsilon_noise0 = sp.Symbol('epsilon_noise0')\n",
    "    epsilon_noise1 = sp.Symbol('epsilon_noise1')\n",
    "    \n",
    "    hawkes_model_obj.set_data(events_g[0])\n",
    "    loglik,end_time = hawkes_model_obj.log_likelihood(mu,W,epsilon_noise0)\n",
    "    loglik_all.append(loglik + dim*end_time*epsilon_noise0)\n",
    "    hawkes_model_obj.set_data(events_g[1])\n",
    "    loglik,end_time = hawkes_model_obj.log_likelihood(mu,W,epsilon_noise1)\n",
    "    loglik_all.append(loglik + dim*end_time*epsilon_noise1) \n",
    "    \n",
    "    print (sp.solve(loglik_all,[epsilon_noise0, epsilon_noise1]))\n",
    "        \n",
    "    '''\n",
    "    sol_root = root(fun,[0.0]*events_num)\n",
    "    sol_fsolve = fsolve(fun,[0.0]*events_num)\n",
    "    '''\n",
    "    \n",
    "    print('\\n\\nFinished.')\n",
    "\n",
    "\n",
    "if __name__ == \"__main__\":\n",
    "    parser = argparse.ArgumentParser()\n",
    "    parser.add_argument('-d', '--dir', dest='dir', type=str,\n",
    "                        #required=True, help=\"Working directory\")\n",
    "                        required=False, default=\".\")\n",
    "    parser.add_argument('-p', '--params', dest='param_filename', type=str,\n",
    "                        required=False, default='params.json',\n",
    "                        help=\"Input parameter file (JSON)\")\n",
    "    args = parser.parse_known_args()[0]\n",
    "    estimate ('.','output_varhawkes_train_samples_s002_350-400+mu+c1+1e-04.json')"
   ]
  },
  {
   "cell_type": "code",
   "execution_count": 147,
   "metadata": {},
   "outputs": [
    {
     "name": "stdout",
     "output_type": "stream",
     "text": [
      "[3.532454490661621]\n",
      "[1.9674999999999998]\n"
     ]
    }
   ],
   "source": [
    "print(lambda_M[40:41])\n",
    "print(end_time[40:41])\n"
   ]
  },
  {
   "cell_type": "code",
   "execution_count": 4,
   "metadata": {},
   "outputs": [
    {
     "data": {
      "image/png": "[encoded data removed]",
      "text/plain": [
       "<Figure size 432x288 with 1 Axes>"
      ]
     },
     "metadata": {
      "needs_background": "light"
     },
     "output_type": "display_data"
    }
   ],
   "source": [
    "import matplotlib.pyplot as plt\n",
    "import numpy as np\n",
    "\n",
    "mu, sigma = -2,0.1\n",
    "x = np.random.lognormal(mu,sigma,10000)\n",
    "n, bins, patches = plt.hist(x,bins=100,facecolor='g', alpha=0.75)\n",
    "plt.grid(True)\n",
    "plt.show()\n"
   ]
  },
  {
   "cell_type": "code",
   "execution_count": 104,
   "metadata": {},
   "outputs": [
    {
     "name": "stdout",
     "output_type": "stream",
     "text": [
      "1.8223529574201932e-16\n"
     ]
    }
   ],
   "source": [
    "#检验\n",
    "nu = -1.4284585909000809\n",
    "sigma = 0.42320765190665155\n",
    "\n",
    "#print(math.log(const))\n",
    "\n",
    "check = (nu + 3*sigma - math.log(const))**2\n",
    "print(check)"
   ]
  },
  {
   "cell_type": "code",
   "execution_count": 43,
   "metadata": {},
   "outputs": [
    {
     "name": "stdout",
     "output_type": "stream",
     "text": [
      "result is: [2.]\n"
     ]
    }
   ],
   "source": [
    "def f(x):\n",
    "    return x**2-4\n",
    "result = optimize.fsolve(f,1,xtol=1.49012e-010,maxfev=5000)\n",
    "\n",
    "print('result is:',result)\n"
   ]
  },
  {
   "cell_type": "code",
   "execution_count": 40,
   "metadata": {},
   "outputs": [
    {
     "name": "stdout",
     "output_type": "stream",
     "text": [
      "0\n"
     ]
    }
   ],
   "source": [
    "c = 2\n",
    "\n",
    "print(c**2 -4)"
   ]
  },
  {
   "cell_type": "code",
   "execution_count": null,
   "metadata": {},
   "outputs": [],
   "source": []
  }
 ],
 "metadata": {
  "kernelspec": {
   "display_name": "Python 3",
   "language": "python",
   "name": "python3"
  },
  "language_info": {
   "codemirror_mode": {
    "name": "ipython",
    "version": 3
   },
   "file_extension": ".py",
   "mimetype": "text/x-python",
   "name": "python",
   "nbconvert_exporter": "python",
   "pygments_lexer": "ipython3",
   "version": "3.6.5"
  }
 },
 "nbformat": 4,
 "nbformat_minor": 2
}
