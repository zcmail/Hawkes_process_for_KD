{
 "cells": [
  {
   "cell_type": "code",
   "execution_count": 4,
   "metadata": {},
   "outputs": [],
   "source": [
    "import numpy\n",
    "import os\n",
    "import json\n",
    "import torch\n",
    "import xlrd\n",
    "import pandas as pd\n",
    "from pandas.core.frame import DataFrame\n",
    "\n",
    "user = ['s002', 's032', 's036', 's047', 's052']\n",
    "filelist = os.listdir()\n",
    "\n",
    "root_path = './result/compare_200/'#指定文件所在路径\n",
    "filetype ='.json'#指定文件类型\n",
    "result_file = 'result.xls'\n",
    "\n",
    "def get_filename(path,filetype):\n",
    "    name =[]\n",
    "    final_name = []\n",
    "    for root,dirs,files in os.walk(path):\n",
    "        for i in files:\n",
    "            if filetype in i:\n",
    "                name.append(i.replace(filetype,''))#生成不带‘.json’后缀的文件名组成的列表\n",
    "    final_name = [path +'/'+ item +'.json' for item in name]#生成‘.json’后缀的文件名组成的列表\n",
    "    return final_name#输出由有‘.json’后缀的文件名组成的列表\n",
    "\n",
    "param_filename_list = []\n",
    "\n",
    "for user_element in user:      \n",
    "    path = root_path+user_element\n",
    "    for file_name in get_filename(path, filetype):\n",
    "        param_filename_list.append (file_name) \n",
    "\n",
    "#print ('param_filename_list is:', param_filename_list)\n",
    "\n",
    "mu_distance_list = []\n",
    "W_distance_list = []\n",
    "\n",
    "for param_filename1 in param_filename_list:\n",
    "    if not os.path.exists(param_filename1):\n",
    "        raise FileNotFoundError(\n",
    "            'Input file `{:s}` not found.'.format(param_filename1))\n",
    "    with open(param_filename1, 'r') as param_file1:\n",
    "        param_dict1 = json.load(param_file1)\n",
    "        \n",
    "    mu_distance_list_temp = []\n",
    "    W_distance_list_temp = []\n",
    "    for param_filename2 in param_filename_list:        \n",
    "        if not os.path.exists(param_filename2):\n",
    "            raise FileNotFoundError(\n",
    "                'Input file `{:s}` not found.'.format(param_filename2))\n",
    "        with open(param_filename2, 'r') as param_file2:\n",
    "            param_dict2 = json.load(param_file2)\n",
    "\n",
    "\n",
    "        mu1 = numpy.array(param_dict1['vi_exp']['mu'])\n",
    "        W1 = numpy.array(param_dict1['vi_exp']['adjacency'])\n",
    "\n",
    "        mu2 = numpy.array(param_dict2['vi_exp']['mu'])\n",
    "        W2 = numpy.array(param_dict2['vi_exp']['adjacency'])\n",
    "\n",
    "        dist_mu = numpy.sqrt(numpy.sum(numpy.square(mu1 - mu2)))\n",
    "        dist_W =  numpy.sqrt(numpy.sum(numpy.square(W1 - W2)))\n",
    "        \n",
    "        mu_distance_list_temp.append(dist_mu)\n",
    "        W_distance_list_temp.append(dist_W)\n",
    "    mu_distance_list.append(mu_distance_list_temp)\n",
    "    W_distance_list.append(W_distance_list_temp)\n",
    "\n",
    "data_frame_mu = DataFrame(mu_distance_list)\n",
    "data_frame_W = DataFrame(W_distance_list)"
   ]
  },
  {
   "cell_type": "code",
   "execution_count": 2,
   "metadata": {},
   "outputs": [
    {
     "name": "stderr",
     "output_type": "stream",
     "text": [
      "c:\\users\\jw\\anaconda3\\lib\\site-packages\\matplotlib\\artist.py:913: UserWarning: Attempting to set identical bottom==top results\n",
      "in singular transformations; automatically expanding.\n",
      "bottom=0, top=0\n",
      "  return func(v)\n",
      "c:\\users\\jw\\anaconda3\\lib\\site-packages\\matplotlib\\artist.py:913: UserWarning: Attempting to set identical left==right results\n",
      "in singular transformations; automatically expanding.\n",
      "left=0, right=0\n",
      "  return func(v)\n"
     ]
    },
    {
     "data": {
      "text/plain": [
       "<Figure size 2000x1600 with 2 Axes>"
      ]
     },
     "metadata": {},
     "output_type": "display_data"
    }
   ],
   "source": [
    "import seaborn as sns\n",
    "import matplotlib.pyplot as plt\n",
    "\n",
    "plt.figure(figsize=(20,16))\n",
    "cmap = sns.cubehelix_palette(start = 1, rot = 3, gamma=0.8, as_cmap = True)\n",
    "sns.heatmap(data_frame_mu, linewidths = 0.05, vmax=1, vmin=0, cmap=cmap, center=None, robust=False, annot=False)\n",
    "plt.show()"
   ]
  },
  {
   "cell_type": "code",
   "execution_count": 3,
   "metadata": {},
   "outputs": [
    {
     "ename": "ValueError",
     "evalue": "max() arg is an empty sequence",
     "output_type": "error",
     "traceback": [
      "\u001b[1;31m---------------------------------------------------------------------------\u001b[0m",
      "\u001b[1;31mValueError\u001b[0m                                Traceback (most recent call last)",
      "\u001b[1;32m<ipython-input-3-6bf48afe1f5f>\u001b[0m in \u001b[0;36m<module>\u001b[1;34m\u001b[0m\n\u001b[1;32m----> 1\u001b[1;33m \u001b[0mprint\u001b[0m\u001b[1;33m(\u001b[0m\u001b[0mmax\u001b[0m\u001b[1;33m(\u001b[0m\u001b[0mdata_frame_mu\u001b[0m\u001b[1;33m.\u001b[0m\u001b[0mvalues\u001b[0m\u001b[1;33m.\u001b[0m\u001b[0mflatten\u001b[0m\u001b[1;33m(\u001b[0m\u001b[1;33m)\u001b[0m\u001b[1;33m)\u001b[0m\u001b[1;33m)\u001b[0m\u001b[1;33m\u001b[0m\u001b[0m\n\u001b[0m\u001b[0;32m      2\u001b[0m \u001b[0mprint\u001b[0m\u001b[1;33m(\u001b[0m\u001b[0mmin\u001b[0m\u001b[1;33m(\u001b[0m\u001b[0mdata_frame_mu\u001b[0m\u001b[1;33m.\u001b[0m\u001b[0mvalues\u001b[0m\u001b[1;33m.\u001b[0m\u001b[0mflatten\u001b[0m\u001b[1;33m(\u001b[0m\u001b[1;33m)\u001b[0m\u001b[1;33m)\u001b[0m\u001b[1;33m)\u001b[0m\u001b[1;33m\u001b[0m\u001b[0m\n",
      "\u001b[1;31mValueError\u001b[0m: max() arg is an empty sequence"
     ]
    }
   ],
   "source": [
    "print(max(data_frame_mu.values.flatten()))\n",
    "print(min(data_frame_mu.values.flatten()))"
   ]
  },
  {
   "cell_type": "code",
   "execution_count": 5,
   "metadata": {},
   "outputs": [
    {
     "data": {
      "image/png": "[encoded data removed]",
      "text/plain": [
       "<Figure size 1440x1152 with 2 Axes>"
      ]
     },
     "metadata": {
      "needs_background": "light"
     },
     "output_type": "display_data"
    }
   ],
   "source": [
    "import seaborn as sns\n",
    "import matplotlib.pyplot as plt\n",
    "\n",
    "plt.figure(figsize=(20,16))\n",
    "cmap = sns.cubehelix_palette(start = 1, rot = 3, gamma=0.8, as_cmap = True)\n",
    "sns.heatmap(data_frame_W, linewidths = 0.05, vmax=160, vmin=0, cmap=cmap, center=None, robust=False, annot=False)\n",
    "plt.show()"
   ]
  },
  {
   "cell_type": "code",
   "execution_count": 6,
   "metadata": {},
   "outputs": [
    {
     "name": "stdout",
     "output_type": "stream",
     "text": [
      "4.935771173326225\n",
      "0.0\n"
     ]
    }
   ],
   "source": [
    "print(max(data_frame_W.values.flatten()))\n",
    "print(min(data_frame_W.values.flatten()))"
   ]
  },
  {
   "cell_type": "code",
   "execution_count": null,
   "metadata": {},
   "outputs": [],
   "source": []
  }
 ],
 "metadata": {
  "kernelspec": {
   "display_name": "Python 3",
   "language": "python",
   "name": "python3"
  },
  "language_info": {
   "codemirror_mode": {
    "name": "ipython",
    "version": 3
   },
   "file_extension": ".py",
   "mimetype": "text/x-python",
   "name": "python",
   "nbconvert_exporter": "python",
   "pygments_lexer": "ipython3",
   "version": "3.6.5"
  }
 },
 "nbformat": 4,
 "nbformat_minor": 2
}
