{
 "cells": [
  {
   "cell_type": "code",
   "execution_count": 1,
   "metadata": {
    "scrolled": true
   },
   "outputs": [
    {
     "name": "stderr",
     "output_type": "stream",
     "text": [
      "c:\\users\\jw\\anaconda3\\lib\\site-packages\\scipy\\optimize\\minpack.py:227: ComplexWarning: Casting complex values to real discards the imaginary part\n",
      "  ml, mu, epsfcn, factor, diag)\n"
     ]
    },
    {
     "name": "stdout",
     "output_type": "stream",
     "text": [
      "r is: [0.56873262 0.51987494 0.59648203 0.59879448 0.57720911 0.51214534\n",
      " 0.58087209 0.60011793 0.55034212 0.53115651]\n",
      "\n",
      "nu is : -0.5750519877432992\n",
      "sigam is: 0.0035700622940883033\n",
      "\n",
      "E is: 0.5626792015698759\n",
      "Var is: 0.11647501589677062\n",
      "\n",
      "3倍下界是: 0.556681411633673\n",
      "3倍上界是: 0.5687343640580009\n",
      "\n",
      "1倍下界是: 0.5606704102953325\n",
      "1倍上界是: 0.5646879928291856\n"
     ]
    },
    {
     "name": "stderr",
     "output_type": "stream",
     "text": [
      "c:\\users\\jw\\anaconda3\\lib\\site-packages\\scipy\\optimize\\minpack.py:163: RuntimeWarning: The iteration is not making good progress, as measured by the \n",
      "  improvement from the last five Jacobian evaluations.\n",
      "  warnings.warn(msg, RuntimeWarning)\n"
     ]
    }
   ],
   "source": [
    "import math\n",
    "from scipy.optimize import fsolve\n",
    "from scipy import log\n",
    "import numpy as np\n",
    "\n",
    "events_n = 10\n",
    "\n",
    "def func_new(epsilon_noise):\n",
    "    expresion =[log(1.1889551577540254-epsilon_noise[0])+log(1.0848414416125904-epsilon_noise[0])+log(0.992226731679783-epsilon_noise[0])+log(0.8880732974486317-epsilon_noise[0])+log(0.8990665055029176-epsilon_noise[0])+log(0.8409132357787308-epsilon_noise[0])+log(0.8995019845300652-epsilon_noise[0])+log(0.9292146698769539-epsilon_noise[0])+log(0.8687910656837239-epsilon_noise[0])+log(0.837958078218741-epsilon_noise[0])+log(0.609183744935491-epsilon_noise[0])-19.808091250399716+11*5.0429*epsilon_noise[0],log(1.1889390649342872-epsilon_noise[1])+log(1.084136334444818-epsilon_noise[1])+log(0.9933348483706614-epsilon_noise[1])+log(0.9052439402349933-epsilon_noise[1])+log(0.9116389336160797-epsilon_noise[1])+log(0.8783999380725462-epsilon_noise[1])+log(0.9182545902604337-epsilon_noise[1])+log(0.9092338338902786-epsilon_noise[1])+log(0.8766217814724133-epsilon_noise[1])+log(0.8453095089821406-epsilon_noise[1])+log(0.5560743330638676-epsilon_noise[1])-18.93673313644971+11*4.5878*epsilon_noise[1],log(1.1889473650751061-epsilon_noise[2])+log(1.0796438306808582-epsilon_noise[2])+log(0.9896306912704826-epsilon_noise[2])+log(0.9109089359411442-epsilon_noise[2])+log(0.9121926852869395-epsilon_noise[2])+log(0.8631931261731345-epsilon_noise[2])+log(0.9239008738164162-epsilon_noise[2])+log(0.9373359847408977-epsilon_noise[2])+log(0.8727413096961107-epsilon_noise[2])+log(0.8463687554765496-epsilon_noise[2])+log(0.8999601073249738-epsilon_noise[2])-11.261471540291677+11*3.0256000000000003*epsilon_noise[2],log(1.1889252401634645-epsilon_noise[3])+log(1.0825249131577697-epsilon_noise[3])+log(0.9925836172356854-epsilon_noise[3])+log(0.9063596612156215-epsilon_noise[3])+log(0.8945146680474069-epsilon_noise[3])+log(0.8713936952926142-epsilon_noise[3])+log(0.9201310471228248-epsilon_noise[3])+log(0.9361505894054678-epsilon_noise[3])+log(0.8914823410061624-epsilon_noise[3])+log(0.8530355680674258-epsilon_noise[3])+log(0.8774133977414729-epsilon_noise[3])-11.497552186005066+11*3.0546*epsilon_noise[3],log(1.1889178267242708-epsilon_noise[4])+log(1.0843301466914943-epsilon_noise[4])+log(0.9923193511012124-epsilon_noise[4])+log(0.8880477939319109-epsilon_noise[4])+log(0.8984104239808706-epsilon_noise[4])+log(0.8803073008891468-epsilon_noise[4])+log(0.9319868080809782-epsilon_noise[4])+log(0.9284590428951611-epsilon_noise[4])+log(0.8989484429601067-epsilon_noise[4])+log(0.8519293696907827-epsilon_noise[4])+log(0.9075547903802531-epsilon_noise[4])-10.533254417465471+11*2.8214*epsilon_noise[4],log(1.1889395896767456-epsilon_noise[5])+log(1.0883058746066139-epsilon_noise[5])+log(0.9947599877903583-epsilon_noise[5])+log(0.9145616186196582-epsilon_noise[5])+log(0.9141958375499001-epsilon_noise[5])+log(0.889717000836201-epsilon_noise[5])+log(0.9282868658847924-epsilon_noise[5])+log(0.9255276049590078-epsilon_noise[5])+log(0.8688919766908029-epsilon_noise[5])+log(0.8398309834553659-epsilon_noise[5])+log(0.8995239328808422-epsilon_noise[5])-9.508854115485656+11*2.3886999999999996*epsilon_noise[5],log(1.1889365472658593-epsilon_noise[6])+log(1.088434962610133-epsilon_noise[6])+log(0.9938485315995229-epsilon_noise[6])+log(0.9112088666342564-epsilon_noise[6])+log(0.8924031823537132-epsilon_noise[6])+log(0.8624260259319199-epsilon_noise[6])+log(0.9143146840282095-epsilon_noise[6])+log(0.9344471116289397-epsilon_noise[6])+log(0.8840878815665827-epsilon_noise[6])+log(0.8479114830289612-epsilon_noise[6])+log(0.9014043604857753-epsilon_noise[6])-10.92907279765299+11*2.9167*epsilon_noise[6],log(1.1889247175732718-epsilon_noise[7])+log(1.0863569421166852-epsilon_noise[7])+log(0.9914118298316936-epsilon_noise[7])+log(0.8991335390640705-epsilon_noise[7])+log(0.8902238473808153-epsilon_noise[7])+log(0.8760193355233317-epsilon_noise[7])+log(0.8968523893550233-epsilon_noise[7])+log(0.9017621321959612-epsilon_noise[7])+log(0.8647124315912561-epsilon_noise[7])+log(0.837836228638791-epsilon_noise[7])+log(0.8878130794041721-epsilon_noise[7])-11.93148318367513+11*3.1677*epsilon_noise[7],log(1.1889321457056166-epsilon_noise[8])+log(1.0846421885990538-epsilon_noise[8])+log(0.9950656759631635-epsilon_noise[8])+log(0.9107865124460998-epsilon_noise[8])+log(0.9031068616031166-epsilon_noise[8])+log(0.8772953803352466-epsilon_noise[8])+log(0.924525119619579-epsilon_noise[8])+log(0.9432556084309762-epsilon_noise[8])+log(0.9041656205555357-epsilon_noise[8])+log(0.8591097198812232-epsilon_noise[8])+log(0.9110883654428535-epsilon_noise[8])-9.705049411936711+11*2.5676*epsilon_noise[8],log(1.1889390649342872-epsilon_noise[9])+log(1.0866091145677745-epsilon_noise[9])+log(0.9962900934803748-epsilon_noise[9])+log(0.912940235027415-epsilon_noise[9])+log(0.8438138660837498-epsilon_noise[9])+log(0.8358967681816625-epsilon_noise[9])+log(0.8967936635242524-epsilon_noise[9])+log(0.9055812134329613-epsilon_noise[9])+log(0.8770336433303303-epsilon_noise[9])+log(0.6971063853765426-epsilon_noise[9])+log(0.8210486510785748-epsilon_noise[9])-18.32741319999147+11*4.980200000000001*epsilon_noise[9]]\n",
    "    return expresion\n",
    "r = fsolve(func_new,[0.0]*events_n)\n",
    "print('r is:',r)\n",
    "\n",
    "#r[3] = 1e-04\n",
    "\n",
    "nu_temp_list = map(lambda x :math.log(x), r)\n",
    "#print('nu_temp_list is:',np.mean(list(nu_temp_list)))\n",
    "nu = np.mean(list(nu_temp_list))\n",
    "\n",
    "sigma_temp_list = map(lambda x : (math.log(x) - nu)**2, r)\n",
    "#print ('sigma_temp_list is:',sigma_temp_list)\n",
    "sigma_temp_list_sum = np.sum(list(sigma_temp_list))\n",
    "sigma = sigma_temp_list_sum/(events_n - 1)\n",
    "\n",
    "print('\\nnu is :',nu)\n",
    "print('sigam is:',sigma)\n",
    "\n",
    "print('\\nE is:', math.exp(nu + sigma**2/2))\n",
    "print('Var is:', math.exp(sigma**2-1)* math.exp(2*nu+sigma**2))\n",
    "\n",
    "print('\\n3倍下界是:', math.exp(nu) / (math.exp(sigma))**3)\n",
    "print('3倍上界是:', math.exp(nu) * (math.exp(sigma))**3)\n",
    "\n",
    "print('\\n1倍下界是:', math.exp(nu) / math.exp(sigma))\n",
    "print('1倍上界是:', math.exp(nu) * math.exp(sigma))"
   ]
  },
  {
   "cell_type": "code",
   "execution_count": 14,
   "metadata": {
    "scrolled": false
   },
   "outputs": [
    {
     "data": {
      "text/plain": [
       "<Figure size 640x480 with 1 Axes>"
      ]
     },
     "metadata": {},
     "output_type": "display_data"
    }
   ],
   "source": [
    "import matplotlib.pyplot as plt\n",
    "import numpy as np\n",
    "\n",
    "#nu, sigma = -10.0,0.01\n",
    "x = np.random.lognormal(nu,sigma,10000)\n",
    "n, bins, patches = plt.hist(x,bins=100,facecolor='g', alpha=0.75)\n",
    "plt.grid(True)\n",
    "plt.show()"
   ]
  },
  {
   "cell_type": "code",
   "execution_count": 3,
   "metadata": {},
   "outputs": [],
   "source": [
    "def func_zc(x):\n",
    "    epsilon_noise =[0.33100162,0.33376119,0.35826523,0.32680192,0.33162379,0.31803395\n",
    ",0.32514568,0.31200657,0.30464216,0.3430509,0.3804396,0.3214162\n",
    ",0.33937743,0.36594604,0.46142779,0.29039895,0.29890848,0.32310606\n",
    ",0.44177968,0.44804169,0.32483473,0.29374913,0.36907739,0.34539369\n",
    ",0.41957375,0.38275964,0.44558892,0.3778563,0.38964625,0.37384599\n",
    ",0.29445053,0.37719798,0.30742859,0.37214322,0.31394221,0.39575056\n",
    ",0.31821149,0.32680982,0.32699042,0.3560891,0.30971652,0.29982666\n",
    ",0.36425977,0.38336082,0.39539629,0.32595964,0.33558826,0.30866728\n",
    ",0.28555727,0.31764784]\n",
    "    ret = log(1.8659227980510298-epsilon_noise[0])+log(2.6783144621410666-epsilon_noise[0])+log(2.9008976064164247-epsilon_noise[0])+log(2.802209348896138-epsilon_noise[0])+log(1.92982621324489-epsilon_noise[0])+log(1.8184289330744747-epsilon_noise[0])+log(3.3013771185756497-epsilon_noise[0])+log(5.040431313107264-epsilon_noise[0])+log(6.063182819299898-epsilon_noise[0])+log(6.236533112389411-epsilon_noise[0])+log(11.910723350445279-epsilon_noise[0])-32.551995411231225+11*5.4781*epsilon_noise[0],log(1.8659723914560775-epsilon_noise[1])+log(2.7480527025347223-epsilon_noise[1])+log(2.9496601436278924-epsilon_noise[1])+log(2.948531952495995-epsilon_noise[1])+log(1.9179703261569983-epsilon_noise[1])+log(2.675719353635472-epsilon_noise[1])+log(3.2973667952956163-epsilon_noise[1])+log(5.157456240731234-epsilon_noise[1])+log(5.730661811597605-epsilon_noise[1])+log(6.628137312293131-epsilon_noise[1])+log(12.097597172764285-epsilon_noise[1])-29.40044403049746+11*4.4147*epsilon_noise[1],log(1.8659439556585875-epsilon_noise[2])+log(2.9574865018826957-epsilon_noise[2])+log(2.9608232286374623-epsilon_noise[2])+log(2.9183496269371476-epsilon_noise[2])+log(2.061505720855445-epsilon_noise[2])+log(2.924949324822658-epsilon_noise[2])+log(3.3785827853175983-epsilon_noise[2])+log(4.86108933828509-epsilon_noise[2])+log(5.819876873416582-epsilon_noise[2])+log(6.572753008120674-epsilon_noise[2])+log(12.02930712275365-epsilon_noise[2])-29.27855774100954+11*4.0470999999999995*epsilon_noise[2],log(1.8659487823664005-epsilon_noise[3])+log(2.8670492736518374-epsilon_noise[3])+log(2.795326114065233-epsilon_noise[3])+log(2.8513043472929125-epsilon_noise[3])+log(2.0469123453863114-epsilon_noise[3])+log(2.1312764534542614-epsilon_noise[3])+log(3.3478944019680936-epsilon_noise[3])+log(5.175580346075428-epsilon_noise[3])+log(6.04988201182776-epsilon_noise[3])+log(6.683166793132953-epsilon_noise[3])+log(11.895909045387905-epsilon_noise[3])-30.04266277007713+11*4.726299999999999*epsilon_noise[3],log(1.8659542721639018-epsilon_noise[4])+log(2.903955143562493-epsilon_noise[4])+log(2.909979757663354-epsilon_noise[4])+log(2.9159733935030157-epsilon_noise[4])+log(2.259588717914921-epsilon_noise[4])+log(2.554714363091273-epsilon_noise[4])+log(3.362429111321688-epsilon_noise[4])+log(5.014628043326209-epsilon_noise[4])+log(6.038020108728736-epsilon_noise[4])+log(6.618865286683667-epsilon_noise[4])+log(12.1731337731367-epsilon_noise[4])-28.096342873317578+11*4.020700000000001*epsilon_noise[4],log(1.8659353679945128-epsilon_noise[5])+log(2.916885212554562-epsilon_noise[5])+log(2.9707713120533374-epsilon_noise[5])+log(2.927635010148517-epsilon_noise[5])+log(2.1709625485780917-epsilon_noise[5])+log(2.3062702439827554-epsilon_noise[5])+log(4.059843246327638-epsilon_noise[5])+log(5.296383384326388-epsilon_noise[5])+log(6.05868373700857-epsilon_noise[5])+log(6.633173970838948-epsilon_noise[5])+log(12.076758027794762-epsilon_noise[5])-26.886887105056683+11*3.7949999999999995*epsilon_noise[5],log(1.8659785911157538-epsilon_noise[6])+log(2.928248993334662-epsilon_noise[6])+log(2.9606750611591157-epsilon_noise[6])+log(2.9376424327378228-epsilon_noise[6])+log(2.3290096825310105-epsilon_noise[6])+log(2.2174821415608648-epsilon_noise[6])+log(4.103859028006931-epsilon_noise[6])+log(5.275951889111914-epsilon_noise[6])+log(4.5806082434469415-epsilon_noise[6])+log(6.784855501017487-epsilon_noise[6])+log(11.99674794522707-epsilon_noise[6])-26.333897519776134+11*3.6299*epsilon_noise[6],log(1.8659964798875968-epsilon_noise[7])+log(2.959576316563366-epsilon_noise[7])+log(2.9599165676348203-epsilon_noise[7])+log(2.940700540754551-epsilon_noise[7])+log(2.480022670058509-epsilon_noise[7])+log(2.256423986009519-epsilon_noise[7])+log(4.137984502952553-epsilon_noise[7])+log(5.297118113945708-epsilon_noise[7])+log(4.613887783924885-epsilon_noise[7])+log(6.728988528428896-epsilon_noise[7])+log(12.157810728483351-epsilon_noise[7])-25.12906008536827+11*3.3790999999999998*epsilon_noise[7],log(1.8659915650209415-epsilon_noise[8])+log(2.967706899561177-epsilon_noise[8])+log(2.9619498485237794-epsilon_noise[8])+log(2.9406994044582895-epsilon_noise[8])+log(2.402176046299018-epsilon_noise[8])+log(2.5160587093352786-epsilon_noise[8])+log(4.300135557580095-epsilon_noise[8])+log(5.3034326848149735-epsilon_noise[8])+log(6.11092527793248-epsilon_noise[8])+log(6.73977732316761-epsilon_noise[8])+log(12.118284487217514-epsilon_noise[8])-24.66047525394725+11*3.1840999999999995*epsilon_noise[8],log(1.8659747640725892-epsilon_noise[9])+log(2.9787978238565618-epsilon_noise[9])+log(2.94069596345821-epsilon_noise[9])+log(2.9575831271368163-epsilon_noise[9])+log(2.381479474937546-epsilon_noise[9])+log(2.683096335713631-epsilon_noise[9])+log(4.133743820057802-epsilon_noise[9])+log(5.14526701128427-epsilon_noise[9])+log(4.537678352841631-epsilon_noise[9])+log(6.710330806445809-epsilon_noise[9])+log(11.964353087479177-epsilon_noise[9])-25.77814392601958+11*3.2518000000000002*epsilon_noise[9],log(1.8660020699551392-epsilon_noise[10])+log(2.9743907992363092-epsilon_noise[10])+log(2.931122524497679-epsilon_noise[10])+log(2.950143470130967-epsilon_noise[10])+log(2.448747137271517-epsilon_noise[10])+log(2.6661819098139707-epsilon_noise[10])+log(4.155873283245467-epsilon_noise[10])+log(5.110082961292058-epsilon_noise[10])+log(3.146810121228815-epsilon_noise[10])+log(6.131790099461526-epsilon_noise[10])+log(12.045847380757511-epsilon_noise[10])-26.624817247066733+11*3.2824*epsilon_noise[10],log(1.8659988741934552-epsilon_noise[11])+log(3.000131755061133-epsilon_noise[11])+log(2.94184615951524-epsilon_noise[11])+log(2.931752989341905-epsilon_noise[11])+log(2.2053032721677672-epsilon_noise[11])+log(2.7499317755767514-epsilon_noise[11])+log(3.87720426700621-epsilon_noise[11])+log(5.064911223722508-epsilon_noise[11])+log(6.113004734410071-epsilon_noise[11])+log(6.733324714781933-epsilon_noise[11])+log(12.130696477321951-epsilon_noise[11])-26.017447900869993+11*3.4634000000000005*epsilon_noise[11],log(1.8659719962275547-epsilon_noise[12])+log(2.9959206691886555-epsilon_noise[12])+log(2.938170187541435-epsilon_noise[12])+log(2.9516433293432227-epsilon_noise[12])+log(2.4242043543747265-epsilon_noise[12])+log(2.33231856965362-epsilon_noise[12])+log(4.054119112770758-epsilon_noise[12])+log(5.105466231067956-epsilon_noise[12])+log(6.049820523192384-epsilon_noise[12])+log(6.411885119870865-epsilon_noise[12])+log(12.160583608743208-epsilon_noise[12])-27.128129498158895+11*3.6159*epsilon_noise[12],log(1.8659999390212767-epsilon_noise[13])+log(2.949566472418663-epsilon_noise[13])+log(2.873315587896764-epsilon_noise[13])+log(2.9227393769120806-epsilon_noise[13])+log(2.1818230801188703-epsilon_noise[13])+log(2.7268469449412973-epsilon_noise[13])+log(4.0041553405343375-epsilon_noise[13])+log(4.526028609545756-epsilon_noise[13])+log(5.960038874404917-epsilon_noise[13])+log(6.445943614379312-epsilon_noise[13])+log(11.920864026470266-epsilon_noise[13])-29.22125974664828+11*3.9405*epsilon_noise[13],log(1.8659647608679082-epsilon_noise[14])+log(2.87373983138632-epsilon_noise[14])+log(2.917191541824131-epsilon_noise[14])+log(2.9221571699910234-epsilon_noise[14])+log(1.7772542696874982-epsilon_noise[14])+log(2.3448100568890364-epsilon_noise[14])+log(3.4749622409636522-epsilon_noise[14])+log(5.082370114232596-epsilon_noise[14])+log(4.595734108876455-epsilon_noise[14])+log(6.746340703429162-epsilon_noise[14])+log(9.307361186155273-epsilon_noise[14])-39.48991727375112+11*5.416399999999999*epsilon_noise[14],log(1.8659515258240793-epsilon_noise[15])+log(2.974469631837081-epsilon_noise[15])+log(2.9560041068480376-epsilon_noise[15])+log(2.8950800150034466-epsilon_noise[15])+log(2.5599936690882386-epsilon_noise[15])+log(2.6738977242150996-epsilon_noise[15])+log(4.374706995330287-epsilon_noise[15])+log(5.180763833810104-epsilon_noise[15])+log(6.0881512955182515-epsilon_noise[15])+log(6.789730750343659-epsilon_noise[15])+log(12.217398710393873-epsilon_noise[15])-23.633622181122302+11*2.9624999999999995*epsilon_noise[15],log(1.8659849377384892-epsilon_noise[16])+log(2.9696780462058694-epsilon_noise[16])+log(2.9489277271914034-epsilon_noise[16])+log(2.9304585744552796-epsilon_noise[16])+log(2.2673256039640277-epsilon_noise[16])+log(2.643869061328867-epsilon_noise[16])+log(4.025638850358847-epsilon_noise[16])+log(5.171343908783104-epsilon_noise[16])+log(4.589529184160934-epsilon_noise[16])+log(6.794869653553013-epsilon_noise[16])+log(12.278962781607309-epsilon_noise[16])-24.489550027557918+11*3.3079*epsilon_noise[16],log(1.8659796478287214-epsilon_noise[17])+log(2.980052853390177-epsilon_noise[17])+log(2.9446416892191123-epsilon_noise[17])+log(2.9121592454759435-epsilon_noise[17])+log(2.3696329358397343-epsilon_noise[17])+log(2.8182284788131806-epsilon_noise[17])+log(3.8450929266409366-epsilon_noise[17])+log(5.157243688357858-epsilon_noise[17])+log(4.693652398185854-epsilon_noise[17])+log(6.756301626810577-epsilon_noise[17])+log(12.060518864500052-epsilon_noise[17])-25.070896832549817+11*3.2301999999999995*epsilon_noise[17],log(1.865963710108534-epsilon_noise[18])+log(2.914303434660818-epsilon_noise[18])+log(2.875303367390492-epsilon_noise[18])+log(2.88437302806551-epsilon_noise[18])+log(2.3453351795432877-epsilon_noise[18])+log(3.0463010172605722-epsilon_noise[18])+log(4.211686491809916-epsilon_noise[18])+log(5.049064289196879-epsilon_noise[18])+log(4.737394153011254-epsilon_noise[18])+log(6.675575714067294-epsilon_noise[18])+log(10.756960903452708-epsilon_noise[18])-29.90939169711505+11*3.4553000000000003*epsilon_noise[18],log(1.865983481958469-epsilon_noise[19])+log(2.977774056875563-epsilon_noise[19])+log(2.9443816001467393-epsilon_noise[19])+log(2.9201651169419076-epsilon_noise[19])+log(2.543314556818051-epsilon_noise[19])+log(2.7943482357689877-epsilon_noise[19])+log(4.256361764523858-epsilon_noise[19])+log(5.077769234085251-epsilon_noise[19])+log(5.515932588137982-epsilon_noise[19])+log(5.245278457823943-epsilon_noise[19])+log(12.04508808032451-epsilon_noise[19])-31.47735361345086+11*3.7083*epsilon_noise[19],log(1.8659849377384892-epsilon_noise[20])+log(3.0281922806663393-epsilon_noise[20])+log(2.9254185670761315-epsilon_noise[20])+log(2.9217935844094596-epsilon_noise[20])+log(2.4162670284772996-epsilon_noise[20])+log(3.0385974496377504-epsilon_noise[20])+log(4.331225304641137-epsilon_noise[20])+log(4.737606547732755-epsilon_noise[20])+log(6.057388527545085-epsilon_noise[20])+log(6.762041004729783-epsilon_noise[20])+log(12.166478615414167-epsilon_noise[20])-24.741530838074816+11*2.999*epsilon_noise[20],log(1.865977534825387-epsilon_noise[21])+log(2.9172863387920076-epsilon_noise[21])+log(2.9550962310940108-epsilon_noise[21])+log(2.893096122420438-epsilon_noise[21])+log(2.35787066630786-epsilon_noise[21])+log(3.047801661952361-epsilon_noise[21])+log(4.256791065038165-epsilon_noise[21])+log(5.244586300563495-epsilon_noise[21])+log(6.111720126410862-epsilon_noise[21])+log(6.787028807237114-epsilon_noise[21])+log(12.132240423672815-epsilon_noise[21])-23.66062437857073+11*2.9376*epsilon_noise[21],log(1.8659550573622194-epsilon_noise[22])+log(2.9825167258827623-epsilon_noise[22])+log(2.921255204467828-epsilon_noise[22])+log(2.9187125011568904-epsilon_noise[22])+log(2.272340915609412-epsilon_noise[22])+log(3.0704449650485195-epsilon_noise[22])+log(4.187299161550193-epsilon_noise[22])+log(5.194261813696784-epsilon_noise[22])+log(6.122914608399132-epsilon_noise[22])+log(6.4929977572149955-epsilon_noise[22])+log(11.689122470670208-epsilon_noise[22])-26.86591879871517+11*3.2241000000000004*epsilon_noise[22],log(1.8659553191473428-epsilon_noise[23])+log(2.95159132770838-epsilon_noise[23])+log(2.9078405717413354-epsilon_noise[23])+log(2.9457541961949527-epsilon_noise[23])+log(2.261288573168394-epsilon_noise[23])+log(2.961060744465538-epsilon_noise[23])+log(4.269776246547446-epsilon_noise[23])+log(4.853238656481576-epsilon_noise[23])+log(6.098660742394691-epsilon_noise[23])+log(6.635864656207078-epsilon_noise[23])+log(11.942124689586983-epsilon_noise[23])-26.353111926787786+11*3.3046000000000006*epsilon_noise[23],log(1.865974104798238-epsilon_noise[24])+log(3.012326911841166-epsilon_noise[24])+log(2.9284914385154632-epsilon_noise[24])+log(2.891922856526869-epsilon_noise[24])+log(2.519736735190211-epsilon_noise[24])+log(2.772141079982478-epsilon_noise[24])+log(4.136702791193718-epsilon_noise[24])+log(4.688437671623207-epsilon_noise[24])+log(5.894245212969712-epsilon_noise[24])+log(5.724526412382416-epsilon_noise[24])+log(12.006441410474633-epsilon_noise[24])-30.267323787395707+11*3.6704000000000003*epsilon_noise[24],log(1.8659982088923277-epsilon_noise[25])+log(2.9762085963953133-epsilon_noise[25])+log(2.943800223420538-epsilon_noise[25])+log(2.9194511546083772-epsilon_noise[25])+log(1.9495429755875961-epsilon_noise[25])+log(2.823795389933526-epsilon_noise[25])+log(3.99424503605593-epsilon_noise[25])+log(5.1358137914231765-epsilon_noise[25])+log(5.028068073893575-epsilon_noise[25])+log(6.33345671095749-epsilon_noise[25])+log(12.111407199635403-epsilon_noise[25])-30.451336251204534+11*4.1011*epsilon_noise[25],log(1.8659512644182694-epsilon_noise[26])+log(2.9644926019388382-epsilon_noise[26])+log(2.9489137879201923-epsilon_noise[26])+log(2.9099328032535796-epsilon_noise[26])+log(2.545869996558827-epsilon_noise[26])+log(3.1027819723323944-epsilon_noise[26])+log(4.389155076947755-epsilon_noise[26])+log(4.859414436725843-epsilon_noise[26])+log(5.945303821492928-epsilon_noise[26])+log(5.2404726754296735-epsilon_noise[26])+log(12.032080596859945-epsilon_noise[26])-30.10412500241481+11*3.4095000000000004*epsilon_noise[26],log(1.866003802594595-epsilon_noise[27])+log(2.97300066670771-epsilon_noise[27])+log(2.973954394163827-epsilon_noise[27])+log(2.928111987651992-epsilon_noise[27])+log(2.50200981507791-epsilon_noise[27])+log(2.7229674298383117-epsilon_noise[27])+log(4.38300524576798-epsilon_noise[27])+log(5.283289094538792-epsilon_noise[27])+log(5.979603973120561-epsilon_noise[27])+log(6.621864253682583-epsilon_noise[27])+log(11.620809338055-epsilon_noise[27])-26.76415329213289+11*3.1192*epsilon_noise[27],log(1.865993954901429-epsilon_noise[28])+log(2.9403281722595667-epsilon_noise[28])+log(2.94815122500382-epsilon_noise[28])+log(2.929147520924756-epsilon_noise[28])+log(2.2348407402982544-epsilon_noise[28])+log(2.880896851998135-epsilon_noise[28])+log(4.052995032189992-epsilon_noise[28])+log(5.077241770920654-epsilon_noise[28])+log(6.066354043700965-epsilon_noise[28])+log(6.670741306099927-epsilon_noise[28])+log(11.412324571334707-epsilon_noise[28])-28.638106956601995+11*3.5226*epsilon_noise[28],log(1.865961216238874-epsilon_noise[29])+log(3.042772121236827-epsilon_noise[29])+log(2.9246999376518144-epsilon_noise[29])+log(2.962415046004766-epsilon_noise[29])+log(2.5060348268533867-epsilon_noise[29])+log(3.114038177781959-epsilon_noise[29])+log(4.275460160050375-epsilon_noise[29])+log(5.285337026161256-epsilon_noise[29])+log(5.995349308396504-epsilon_noise[29])+log(6.249863898706672-epsilon_noise[29])+log(11.998527948615097-epsilon_noise[29])-25.80832942733247+11*2.8864999999999994*epsilon_noise[29],log(1.8659922286608936-epsilon_noise[30])+log(2.877912570635451-epsilon_noise[30])+log(2.833968447932971-epsilon_noise[30])+log(2.8514179815717693-epsilon_noise[30])+log(2.3137343960717383-epsilon_noise[30])+log(3.227840201128856-epsilon_noise[30])+log(4.072764132417915-epsilon_noise[30])+log(5.195033827245692-epsilon_noise[30])+log(6.060046741628668-epsilon_noise[30])+log(6.73465206414712-epsilon_noise[30])+log(12.192062676197088-epsilon_noise[30])-24.14805132743992+11*3.1144999999999996*epsilon_noise[30],log(1.8659643667838877-epsilon_noise[31])+log(2.995735474021469-epsilon_noise[31])+log(2.954693894268626-epsilon_noise[31])+log(2.932828380417206-epsilon_noise[31])+log(2.0067489415089717-epsilon_noise[31])+log(2.997869471266611-epsilon_noise[31])+log(4.301262857500809-epsilon_noise[31])+log(5.299583950077793-epsilon_noise[31])+log(5.993077610908411-epsilon_noise[31])+log(6.650295699094719-epsilon_noise[31])+log(11.435396635921457-epsilon_noise[31])-27.941775851152663+11*3.4509*epsilon_noise[31],log(1.865957414371024-epsilon_noise[32])+log(2.867579847657165-epsilon_noise[32])+log(2.9532982340746052-epsilon_noise[32])+log(2.925513021434546-epsilon_noise[32])+log(2.398386986619903-epsilon_noise[32])+log(3.0966253902016847-epsilon_noise[32])+log(4.3091855263228585-epsilon_noise[32])+log(5.184280711183946-epsilon_noise[32])+log(5.997262986365117-epsilon_noise[32])+log(6.7381960273482475-epsilon_noise[32])+log(12.0903734345912-epsilon_noise[32])-24.117990014836888+11*2.9563999999999995*epsilon_noise[32],log(1.8659841435774032-epsilon_noise[33])+log(2.8996480598593406-epsilon_noise[33])+log(2.951985399575886-epsilon_noise[33])+log(2.9488426003845944-epsilon_noise[33])+log(2.509263547044121-epsilon_noise[33])+log(2.688564357987062-epsilon_noise[33])+log(3.5455861356323606-epsilon_noise[33])+log(5.215166946478501-epsilon_noise[33])+log(5.508913175164391-epsilon_noise[33])+log(6.4045893719315155-epsilon_noise[33])+log(12.100491048083873-epsilon_noise[33])-28.762264341561227+11*3.7405*epsilon_noise[33],log(1.8659698893430534-epsilon_noise[34])+log(2.934839197781992-epsilon_noise[34])+log(2.938160233568546-epsilon_noise[34])+log(2.914541197857561-epsilon_noise[34])+log(2.2210668678001957-epsilon_noise[34])+log(3.260798993346678-epsilon_noise[34])+log(4.368600849460008-epsilon_noise[34])+log(5.3286541407788635-epsilon_noise[34])+log(5.878243949902488-epsilon_noise[34])+log(6.5320142341468905-epsilon_noise[34])+log(12.201556887602791-epsilon_noise[34])-24.318318172335154+11*2.9642999999999997*epsilon_noise[34],log(1.8659626597693797-epsilon_noise[35])+log(2.9459240925259715-epsilon_noise[35])+log(2.954379705804042-epsilon_noise[35])+log(2.9406559909319743-epsilon_noise[35])+log(2.3411615997038204-epsilon_noise[35])+log(2.5731907840321857-epsilon_noise[35])+log(4.290272775055308-epsilon_noise[35])+log(5.339074463207275-epsilon_noise[35])+log(6.013446115976403-epsilon_noise[35])+log(6.62690427010803-epsilon_noise[35])+log(11.261415986290164-epsilon_noise[35])-28.849599440906264+11*3.5173999999999994*epsilon_noise[35],log(1.8659709425746156-epsilon_noise[36])+log(2.416879204375455-epsilon_noise[36])+log(2.873304624144218-epsilon_noise[36])+log(2.9075027741929023-epsilon_noise[36])+log(2.3915176842795653-epsilon_noise[36])+log(2.862292079479454-epsilon_noise[36])+log(4.363097053152211-epsilon_noise[36])+log(5.2103303973740855-epsilon_noise[36])+log(5.616815720904917-epsilon_noise[36])+log(6.5788203639545095-epsilon_noise[36])+log(12.215801218926742-epsilon_noise[36])-26.35256371506625+11*3.6165000000000003*epsilon_noise[36],log(1.8659626597693797-epsilon_noise[37])+log(2.9694505278099523-epsilon_noise[37])+log(2.946625943456212-epsilon_noise[37])+log(2.91333911185915-epsilon_noise[37])+log(2.0305065334091683-epsilon_noise[37])+log(3.239955600314511-epsilon_noise[37])+log(4.146955634924508-epsilon_noise[37])+log(5.27365257397042-epsilon_noise[37])+log(6.022129357649673-epsilon_noise[37])+log(6.650288847566863-epsilon_noise[37])+log(11.986644148149818-epsilon_noise[37])-25.49114644020462+11*3.2250000000000005*epsilon_noise[37],log(1.8659595112715546-epsilon_noise[38])+log(2.972406293521414-epsilon_noise[38])+log(2.9336312128059636-epsilon_noise[38])+log(2.92219062772031-epsilon_noise[38])+log(2.4681231422218426-epsilon_noise[38])+log(3.2734035577552865-epsilon_noise[38])+log(4.480844989035676-epsilon_noise[38])+log(5.354822607350258-epsilon_noise[38])+log(5.879724914039865-epsilon_noise[38])+log(6.492355646966518-epsilon_noise[38])+log(12.099246421433294-epsilon_noise[38])-23.919804224122878+11*2.7035*epsilon_noise[38],log(1.86596581204767-epsilon_noise[39])+log(2.932384420783894-epsilon_noise[39])+log(2.932871754885676-epsilon_noise[39])+log(2.9108614467262424-epsilon_noise[39])+log(2.208839582043872-epsilon_noise[39])+log(2.9849504168983616-epsilon_noise[39])+log(4.307412826300402-epsilon_noise[39])+log(5.122667309878539-epsilon_noise[39])+log(5.983054473673407-epsilon_noise[39])+log(6.5040833528190465-epsilon_noise[39])+log(11.867018336908528-epsilon_noise[39])-26.776655627770165+11*3.326*epsilon_noise[39],log(1.865994353424-epsilon_noise[40])+log(2.8743503925605767-epsilon_noise[40])+log(2.94660825657076-epsilon_noise[40])+log(2.945178106672392-epsilon_noise[40])+log(2.368186684406755-epsilon_noise[40])+log(3.183158323386225-epsilon_noise[40])+log(4.436895639127704-epsilon_noise[40])+log(5.333527802381859-epsilon_noise[40])+log(6.024234319010031-epsilon_noise[40])+log(6.6834414411773055-epsilon_noise[40])+log(12.013260705704587-epsilon_noise[40])-23.775442029566207+11*2.8144000000000005*epsilon_noise[40],log(1.8659879842307148-epsilon_noise[41])+log(3.029162287057333-epsilon_noise[41])+log(2.9041320574798126-epsilon_noise[41])+log(2.861153028376309-epsilon_noise[41])+log(2.0676652658510637-epsilon_noise[41])+log(3.1804711579839795-epsilon_noise[41])+log(4.446361798804913-epsilon_noise[41])+log(5.338803017920561-epsilon_noise[41])+log(5.976487169815348-epsilon_noise[41])+log(6.6348605139517876-epsilon_noise[41])+log(12.18175112964266-epsilon_noise[41])-24.12571069522265+11*3.0473999999999997*epsilon_noise[41],log(1.8659667321749431-epsilon_noise[42])+log(2.9420000985728048-epsilon_noise[42])+log(2.9374197248144154-epsilon_noise[42])+log(2.926777221033401-epsilon_noise[42])+log(2.5516676929557756-epsilon_noise[42])+log(3.2048621118922362-epsilon_noise[42])+log(4.416799685087636-epsilon_noise[42])+log(5.32296311047017-epsilon_noise[42])+log(5.842567561049789-epsilon_noise[42])+log(6.46000973798011-epsilon_noise[42])+log(11.91796929950223-epsilon_noise[42])-25.245464355873214+11*2.801*epsilon_noise[42],log(1.8659595112715546-epsilon_noise[43])+log(2.964197019782638-epsilon_noise[43])+log(2.9282637051768896-epsilon_noise[43])+log(2.9316991565755446-epsilon_noise[43])+log(2.0931905514683473-epsilon_noise[43])+log(3.185180811100918-epsilon_noise[43])+log(3.325372835722783-epsilon_noise[43])+log(4.7542901373388595-epsilon_noise[43])+log(5.56234144269491-epsilon_noise[43])+log(6.466453749194799-epsilon_noise[43])+log(11.893176282093311-epsilon_noise[43])-30.442117549122734+11*4.082700000000001*epsilon_noise[43],log(1.8659813658890574-epsilon_noise[44])+log(2.766655814760169-epsilon_noise[44])+log(2.8906079729430556-epsilon_noise[44])+log(2.849991293381822-epsilon_noise[44])+log(2.2221396710093755-epsilon_noise[44])+log(3.137588462514638-epsilon_noise[44])+log(4.231799950525381-epsilon_noise[44])+log(5.168613058673403-epsilon_noise[44])+log(5.871172351575391-epsilon_noise[44])+log(6.5656881343027695-epsilon_noise[44])+log(11.31766117737294-epsilon_noise[44])-29.08316668202917+11*3.5849*epsilon_noise[44],log(1.8659688365326996-epsilon_noise[45])+log(2.968778020313821-epsilon_noise[45])+log(2.9313787451810693-epsilon_noise[45])+log(2.9319071302012647-epsilon_noise[45])+log(2.353542191994877-epsilon_noise[45])+log(3.114468989836795-epsilon_noise[45])+log(4.124743465909832-epsilon_noise[45])+log(5.2657705412627775-epsilon_noise[45])+log(6.002069711932622-epsilon_noise[45])+log(6.636604973353056-epsilon_noise[45])+log(12.08387623094482-epsilon_noise[45])-24.799217653243645+11*3.0045*epsilon_noise[45],log(1.8659286218877131-epsilon_noise[46])+log(2.9695754685935354-epsilon_noise[46])+log(2.888143126995253-epsilon_noise[46])+log(2.9644337128111196-epsilon_noise[46])+log(1.8332532997291955-epsilon_noise[46])+log(2.762968196402121-epsilon_noise[46])+log(4.228610611796462-epsilon_noise[46])+log(5.040849434545614-epsilon_noise[46])+log(5.766467881494797-epsilon_noise[46])+log(6.618135567869961-epsilon_noise[46])+log(12.044685088621751-epsilon_noise[46])-27.858092248743674+11*3.8932*epsilon_noise[46],log(1.8660169003391878-epsilon_noise[47])+log(2.504081790354234-epsilon_noise[47])+log(2.927958968327415-epsilon_noise[47])+log(2.88919381894358-epsilon_noise[47])+log(2.490665698059262-epsilon_noise[47])+log(3.2396745044963846-epsilon_noise[47])+log(4.24076389523414-epsilon_noise[47])+log(5.265637734698165-epsilon_noise[47])+log(5.911462153318373-epsilon_noise[47])+log(6.718768024159237-epsilon_noise[47])+log(12.02975871753528-epsilon_noise[47])-24.613683620222623+11*3.1235000000000004*epsilon_noise[47],log(1.8659832173572055-epsilon_noise[48])+log(2.8997842006736794-epsilon_noise[48])+log(2.906097421116719-epsilon_noise[48])+log(2.935810881851306-epsilon_noise[48])+log(2.353072315675031-epsilon_noise[48])+log(3.15313964524692-epsilon_noise[48])+log(4.365471327290717-epsilon_noise[48])+log(5.346090262133615-epsilon_noise[48])+log(5.933974386940097-epsilon_noise[48])+log(6.764222151724899-epsilon_noise[48])+log(12.22858039270216-epsilon_noise[48])-23.16647970113032+11*2.8405000000000005*epsilon_noise[48],log(1.8659584626115993-epsilon_noise[49])+log(2.932990877378337-epsilon_noise[49])+log(2.8359264824549464-epsilon_noise[49])+log(2.8645325533319745-epsilon_noise[49])+log(1.8196544586971029-epsilon_noise[49])+log(2.6992233113472937-epsilon_noise[49])+log(4.252508533358623-epsilon_noise[49])+log(5.273820905362164-epsilon_noise[49])+log(6.074057180546195-epsilon_noise[49])+log(6.64042944027696-epsilon_noise[49])+log(11.963660167468952-epsilon_noise[49])-27.10872662185908+11*3.8800000000000003*epsilon_noise[49]\n",
    "    print('result is:',ret)\n",
    "    return ret\n",
    "    "
   ]
  },
  {
   "cell_type": "code",
   "execution_count": 4,
   "metadata": {},
   "outputs": [
    {
     "name": "stdout",
     "output_type": "stream",
     "text": [
      "result is: (-1.1334517679983946e-07, -1.5631667338311672e-07, -1.4358660571645032e-07, -1.1203528771375204e-07, 8.642567905781107e-08, -3.4675835536290833e-09, -9.417675883582888e-08, -1.4728851915890573e-07, -1.4523567237745283e-07, -8.322699507345988e-08, -3.90039449627011e-08, 9.218477714512119e-08, -9.180041615763912e-08, 1.5931839492111521e-07, -1.5092314953335517e-07, -4.078790460937398e-08, -2.44018707462601e-08, -8.78775949786359e-08, 5.0161585107844076e-08, 4.00039823489351e-09, -6.255112516839745e-08, -3.894390943059989e-08, 1.270995575453071e-08, -8.280020225015505e-09, 8.229057257835848e-08, -4.4089507156286345e-08, 1.5357078098077181e-07, -8.755282010497467e-08, 1.373460367659618e-07, -5.255357393707527e-08, 2.4210974558513954e-08, -2.450894776018231e-08, -1.1602933902565837e-07, 8.486477831581851e-08, 3.3888813533167195e-08, 1.0110475479052639e-07, -7.257792589143719e-09, 1.3902761253348217e-07, 7.457904871444043e-08, -1.244412377587878e-07, 9.728708505463146e-08, 1.0472284373008733e-07, -3.0521063010269245e-08, -1.9628302183605228e-07, -1.7142954256144094e-07, -7.691831171996455e-08, 3.216562838304071e-08, 7.501629362138829e-08, 1.290285869259833e-07, -7.845121530181132e-08)\n"
     ]
    }
   ],
   "source": [
    "ret = func_zc(0)\n",
    "#ret += 0\n",
    "#print(ret)"
   ]
  },
  {
   "cell_type": "code",
   "execution_count": null,
   "metadata": {},
   "outputs": [],
   "source": []
  }
 ],
 "metadata": {
  "kernelspec": {
   "display_name": "Python 3",
   "language": "python",
   "name": "python3"
  },
  "language_info": {
   "codemirror_mode": {
    "name": "ipython",
    "version": 3
   },
   "file_extension": ".py",
   "mimetype": "text/x-python",
   "name": "python",
   "nbconvert_exporter": "python",
   "pygments_lexer": "ipython3",
   "version": "3.6.5"
  }
 },
 "nbformat": 4,
 "nbformat_minor": 2
}
