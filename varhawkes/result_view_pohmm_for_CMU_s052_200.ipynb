{
 "cells": [
  {
   "cell_type": "code",
   "execution_count": 92,
   "metadata": {},
   "outputs": [],
   "source": [
    "FN_compare = [783, 733, 664, 619, 570, 519, 458, 393, 321, 255, 206, 153, 108, 74, 52, 28, 15, 10, 8, 8, 6, 6, 6, 6, 5, 4, 4, 4, 4, 4, 4, 4, 3, 3, 2, 1, 1, 1, 1, 0, 0, 0, 0, 0, 0, 0, 0, 0, 0, 0]"
   ]
  },
  {
   "cell_type": "code",
   "execution_count": 1,
   "metadata": {},
   "outputs": [
    {
     "data": {
      "image/png": "[encoded data removed]",
      "text/plain": [
       "<Figure size 432x288 with 1 Axes>"
      ]
     },
     "metadata": {
      "needs_background": "light"
     },
     "output_type": "display_data"
    }
   ],
   "source": [
    "import pandas as pd\n",
    "import numpy as np\n",
    "from pandas import Series,DataFrame\n",
    "import matplotlib.pyplot as plt\n",
    "%matplotlib inline\n",
    "\n",
    "path = './result/pohmm_result/200_train/'\n",
    "file = 's052_200train_verification_results_out.csv'\n",
    "fileName = path + file\n",
    "\n",
    "df = pd.read_csv(fileName)\n",
    "\n",
    "#正样本\n",
    "df_positive = df[df[\"genuine\"]==True]\n",
    "df_sort_positive = df_positive.sort_values(by=['score'])\n",
    "df_95percent_positive = df_sort_positive[19:380]\n",
    "mean = df_95percent_positive[\"score\"].mean()\n",
    "df_score_positive = df_sort_positive[\"score\"]\n",
    "\n",
    "distance_positive = list( map(lambda x: abs(x - mean), df_score_positive) )\n",
    "distance_array_positive = np.array(distance_positive)\n",
    "\n",
    "#负样本\n",
    "df_negative = df[df[\"genuine\"]==False]\n",
    "df_sort_negative = df_negative.sort_values(by=['score'])\n",
    "df_score_negative = df_sort_negative[\"score\"]\n",
    "\n",
    "distance_negative = list( map(lambda x: abs(x - mean), df_score_negative) )\n",
    "distance_array_negative = np.array(distance_negative)\n",
    "\n",
    "#判断函数\n",
    "def judge(threshold,distance_array):\n",
    "    out_num = np.sum((distance_array > threshold)) \n",
    "    return out_num\n",
    "\n",
    "threshold_range = np.linspace(1,150,500)\n",
    "\n",
    "FN = [0]*len(threshold_range)\n",
    "TP = [0]*len(threshold_range)\n",
    "FP = [0]*len(threshold_range)\n",
    "TN = [0]*len(threshold_range)\n",
    "\n",
    "false_alarm_rate = [0.0]*len(threshold_range)\n",
    "miss_rate = [0.0]*len(threshold_range)\n",
    "recall = [0.0]*len(threshold_range)\n",
    "precision = [0.0]*len(threshold_range)\n",
    "\n",
    "for i,threshold in enumerate(threshold_range):\n",
    "    #print('threshold is:',threshold)\n",
    "    \n",
    "    out_num = judge(threshold,distance_positive)\n",
    "    #print('out_num is:',out_num)\n",
    "    out_num_all = judge(threshold,distance_array_negative)\n",
    "    #print('out_num_all is:', out_num_all)\n",
    "     \n",
    "    FN[i] = out_num\n",
    "    TP[i] = 400 - out_num\n",
    "    FP[i] = 2500 -  out_num_all\n",
    "    TN[i] = out_num_all\n",
    "\n",
    "    false_alarm_rate[i] = FP[i]/(FP[i]+TN[i])\n",
    "    miss_rate[i] = FN[i]/(TP[i]+FN[i])\n",
    "    recall[i] = TP[i]/(TP[i]+FN[i])\n",
    "    precision[i] = TP[i]/(TP[i]+FP[i])\n",
    "    \n",
    "#根据Kevin的定义：\n",
    "False_Alarm_Rate = list( map(lambda x: x/400, FN) )\n",
    "Miss_Rate = list( map(lambda x: x/2500, FP) )\n",
    "Hit_Rate = list( map(lambda x: 1 - x, Miss_Rate) )\n",
    "plt.plot(False_Alarm_Rate,Hit_Rate,color=\"blue\",linewidth=1)\n",
    "plt.plot(Hit_Rate,Hit_Rate,'g--',linewidth=1)\n",
    "\n",
    "plt.title('s052(200 training samples)')\n",
    "plt.xlabel('False Alarm Rate')\n",
    "plt.ylabel('Hit Rate')\n",
    "plt.xlim([0,1])\n",
    "plt.ylim([0,1])\n",
    "plt.show()"
   ]
  },
  {
   "cell_type": "code",
   "execution_count": 2,
   "metadata": {},
   "outputs": [
    {
     "name": "stdout",
     "output_type": "stream",
     "text": [
      "FN =  [354, 218, 85, 35, 23, 14, 9, 3, 2, 2, 0, 0, 0, 0, 0, 0, 0, 0, 0, 0, 0, 0, 0, 0, 0, 0, 0, 0, 0, 0, 0, 0, 0, 0, 0, 0, 0, 0, 0, 0, 0, 0, 0, 0, 0, 0, 0, 0, 0, 0]\n",
      "TP =  [46, 182, 315, 365, 377, 386, 391, 397, 398, 398, 400, 400, 400, 400, 400, 400, 400, 400, 400, 400, 400, 400, 400, 400, 400, 400, 400, 400, 400, 400, 400, 400, 400, 400, 400, 400, 400, 400, 400, 400, 400, 400, 400, 400, 400, 400, 400, 400, 400, 400]\n",
      "FP =  [0, 0, 0, 0, 0, 4, 24, 67, 180, 349, 576, 857, 1168, 1447, 1707, 1927, 2104, 2223, 2319, 2363, 2391, 2417, 2426, 2436, 2449, 2457, 2466, 2476, 2481, 2486, 2491, 2493, 2496, 2498, 2498, 2499, 2499, 2500, 2500, 2500, 2500, 2500, 2500, 2500, 2500, 2500, 2500, 2500, 2500, 2500]\n",
      "TN =  [2500, 2500, 2500, 2500, 2500, 2496, 2476, 2433, 2320, 2151, 1924, 1643, 1332, 1053, 793, 573, 396, 277, 181, 137, 109, 83, 74, 64, 51, 43, 34, 24, 19, 14, 9, 7, 4, 2, 2, 1, 1, 0, 0, 0, 0, 0, 0, 0, 0, 0, 0, 0, 0, 0]\n"
     ]
    }
   ],
   "source": [
    "\n",
    "print('FN = ', FN)\n",
    "print('TP = ', TP)\n",
    "print('FP = ', FP)\n",
    "print('TN = ', TN)\n",
    "\n",
    "#print('FN = ', FN)"
   ]
  },
  {
   "cell_type": "code",
   "execution_count": 3,
   "metadata": {},
   "outputs": [],
   "source": [
    "five_Percent_index = FN.index(20)"
   ]
  },
  {
   "cell_type": "code",
   "execution_count": 4,
   "metadata": {},
   "outputs": [
    {
     "data": {
      "text/plain": [
       "0.0012"
      ]
     },
     "execution_count": 4,
     "metadata": {},
     "output_type": "execute_result"
    }
   ],
   "source": [
    "FP[five_Percent_index]/2500"
   ]
  },
  {
   "cell_type": "code",
   "execution_count": 5,
   "metadata": {},
   "outputs": [],
   "source": [
    "F1=[0.0]*len(TP)\n",
    "for i in range(len(TP)):\n",
    "    F1[i] = 2*TP[i]/(2*TP[i]+FP[i]+FN[i])"
   ]
  },
  {
   "cell_type": "code",
   "execution_count": 6,
   "metadata": {},
   "outputs": [
    {
     "data": {
      "text/plain": [
       "0.9706257982120051"
      ]
     },
     "execution_count": 6,
     "metadata": {},
     "output_type": "execute_result"
    }
   ],
   "source": [
    "F1[five_Percent_index]"
   ]
  },
  {
   "cell_type": "code",
   "execution_count": 8,
   "metadata": {},
   "outputs": [
    {
     "data": {
      "image/png": "[encoded data removed]",
      "text/plain": [
       "<Figure size 432x288 with 1 Axes>"
      ]
     },
     "metadata": {
      "needs_background": "light"
     },
     "output_type": "display_data"
    }
   ],
   "source": [
    "plt.figure()\n",
    "plt.plot(false_alarm_rate,marker = '*', label = 'far')\n",
    "plt.plot(miss_rate, marker = 'o', label = 'fpr')\n",
    "plt.legend()\n",
    "plt.xlim([0,150])\n",
    "plt.ylim([0,1])\n",
    "plt.xlabel('threshould')\n",
    "plt.ylabel('far/fpr')\n",
    "plt.show()"
   ]
  },
  {
   "cell_type": "code",
   "execution_count": 9,
   "metadata": {},
   "outputs": [
    {
     "data": {
      "text/plain": [
       "0.0175"
      ]
     },
     "execution_count": 9,
     "metadata": {},
     "output_type": "execute_result"
    }
   ],
   "source": [
    "miss_rate[65]"
   ]
  },
  {
   "cell_type": "code",
   "execution_count": 10,
   "metadata": {},
   "outputs": [
    {
     "data": {
      "text/plain": [
       "0.0168"
      ]
     },
     "execution_count": 10,
     "metadata": {},
     "output_type": "execute_result"
    }
   ],
   "source": [
    "false_alarm_rate[65]"
   ]
  },
  {
   "cell_type": "code",
   "execution_count": null,
   "metadata": {},
   "outputs": [],
   "source": []
  }
 ],
 "metadata": {
  "kernelspec": {
   "display_name": "Python 3",
   "language": "python",
   "name": "python3"
  },
  "language_info": {
   "codemirror_mode": {
    "name": "ipython",
    "version": 3
   },
   "file_extension": ".py",
   "mimetype": "text/x-python",
   "name": "python",
   "nbconvert_exporter": "python",
   "pygments_lexer": "ipython3",
   "version": "3.6.5"
  }
 },
 "nbformat": 4,
 "nbformat_minor": 2
}
